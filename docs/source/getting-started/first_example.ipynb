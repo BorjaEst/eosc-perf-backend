{
 "cells": [
  {
   "cell_type": "markdown",
   "id": "bb218523-20fe-46c2-b7ec-74bbb3c6cdd2",
   "metadata": {
    "tags": []
   },
   "source": [
    "# First example\n",
    "In this first example, we are going to register ourselves into the application and collect some simple benchmarks and results."
   ]
  },
  {
   "cell_type": "markdown",
   "id": "e437bc3d",
   "metadata": {},
   "source": [
    "## Prepare your environment\n",
    "Before starting, there are some pre requisites you need to full fill."
   ]
  },
  {
   "cell_type": "markdown",
   "id": "e3c74c48",
   "metadata": {},
   "source": [
    "### Read or terms and conditions\n",
    "If you plan to upload data into EOSC Performance the first thing you would have to do is register. But before doing so, please read carefully our terms of service at [performance.services.fedcloud.eu/terms-of-service](https://performance.services.fedcloud.eu/terms-of-service). "
   ]
  },
  {
   "cell_type": "markdown",
   "id": "1a8d1db9",
   "metadata": {},
   "source": [
    "### Install and run oidc-agent\n",
    "When you need to authenticate yourself at the API, for example to request POST methods, you need to attach an `access-token` to the http header. To get that header, we recommend the usage of [oidc-agent](https://github.com/indigo-dc/oidc-agent#:~:text=oidc%2Dagent%20is%20a%20set,session%20or%20a%20login%20session)."
   ]
  },
  {
   "cell_type": "markdown",
   "id": "90cc863e",
   "metadata": {},
   "source": [
    "Get your `access-token` in bash with the following command:"
   ]
  },
  {
   "cell_type": "code",
   "execution_count": 1,
   "id": "70b64852-fe8e-4f10-91eb-fcfa37c05391",
   "metadata": {},
   "outputs": [],
   "source": [
    "access_token=$(oidc-token egi-prod)"
   ]
  },
  {
   "cell_type": "markdown",
   "id": "38b98f7e",
   "metadata": {},
   "source": [
    "### Configure your environment\n",
    "Not too complicate, for this example it is enough to select an API endpoint."
   ]
  },
  {
   "cell_type": "code",
   "execution_count": 2,
   "id": "d3142369",
   "metadata": {},
   "outputs": [],
   "source": [
    "eosc_perf_api=\"https://performance.services.fedcloud.eu/api/v1\""
   ]
  },
  {
   "cell_type": "markdown",
   "id": "2801fd36",
   "metadata": {},
   "source": [
    "### Register\n",
    "Perform a POST request to ``/users:register``.\n",
    "> You do not need to register for accessing benchmarks and results."
   ]
  },
  {
   "cell_type": "code",
   "execution_count": null,
   "id": "cc0ce5e3",
   "metadata": {},
   "outputs": [],
   "source": [
    "curl -X 'POST' \\\n",
    "  \"$eosc_perf_api/users:register\" \\\n",
    "  -H \"Authorization: Bearer $access_token\""
   ]
  },
  {
   "cell_type": "markdown",
   "id": "962f9883",
   "metadata": {},
   "source": [
    "## Search for a benchmark\n",
    "Use the endpoint ``GET /benchmarks`` to download a list of all available benchmarks at EOSC Performance."
   ]
  },
  {
   "cell_type": "code",
   "execution_count": 4,
   "id": "b444fb2f",
   "metadata": {},
   "outputs": [
    {
     "name": "stdout",
     "output_type": "stream",
     "text": [
      "  % Total    % Received % Xferd  Average Speed   Time    Time     Time  Current\n",
      "                                 Dload  Upload   Total   Spent    Left  Speed\n",
      "100  2541  100  2541    0     0  15782      0 --:--:-- --:--:-- --:--:-- 15881\n",
      "\u001b[0;32m\"5a0f5641-01ae-4f48-b5d1-84cd9c87dfac\"\u001b[0m\n",
      "\u001b[0;32m\"8edf5bcf-d432-4f4f-930f-6245d7f49588\"\u001b[0m\n"
     ]
    }
   ],
   "source": [
    "benchmarks=$(curl -X 'GET' \"$eosc_perf_api/benchmarks\")\n",
    "benchmarks_ids=$(echo $benchmarks | jq '.items[].id')\n",
    "echo $benchmarks_ids | jq"
   ]
  },
  {
   "cell_type": "markdown",
   "id": "1982968d",
   "metadata": {},
   "source": [
    "A benchmark is composed by the following fields:\n",
    " - **docker_image**: Docker image referenced by the benchmark\n",
    " - **docker_tag**: Docker image version/tag referenced by the benchmark\n",
    " - **json_schema**: Schema used to validate benchmark results before upload"
   ]
  },
  {
   "cell_type": "markdown",
   "id": "1d61fbfd",
   "metadata": {},
   "source": [
    "You should find the benchmark container image at [Docker Hub](https://hub.docker.com/search) using the `docker_image` and `docker_tag` fields."
   ]
  },
  {
   "cell_type": "code",
   "execution_count": 5,
   "id": "096db9d5",
   "metadata": {},
   "outputs": [
    {
     "name": "stdout",
     "output_type": "stream",
     "text": [
      "\"deephdc/deep-oc-benchmarks_cnn\":\"benchmark\"\n"
     ]
    }
   ],
   "source": [
    "docker_image=$(echo $benchmarks | jq '.items[0].docker_image')\n",
    "docker_tag=$(echo $benchmarks | jq '.items[0].docker_tag')\n",
    "echo \"$docker_image:$docker_tag\""
   ]
  },
  {
   "cell_type": "markdown",
   "id": "928de1fe",
   "metadata": {},
   "source": [
    "In addition, you can explore what can you expect from the schema accessing the benchmark schema."
   ]
  },
  {
   "cell_type": "code",
   "execution_count": null,
   "id": "267a9c46",
   "metadata": {},
   "outputs": [],
   "source": [
    "echo $benchmarks | jq '.items[0].json_schema'"
   ]
  },
  {
   "cell_type": "markdown",
   "id": "077d5489",
   "metadata": {},
   "source": [
    "## Collect all benchmark results\n",
    "Now you have chosen a benchmark, use its `id` to perform a GET request to `/results` and retrieve the uploaded data from the community. "
   ]
  },
  {
   "cell_type": "code",
   "execution_count": 7,
   "id": "3daab892",
   "metadata": {},
   "outputs": [
    {
     "name": "stdout",
     "output_type": "stream",
     "text": [
      "  % Total    % Received % Xferd  Average Speed   Time    Time     Time  Current\n",
      "                                 Dload  Upload   Total   Spent    Left  Speed\n",
      "100 43513  100 43513    0     0   148k      0 --:--:-- --:--:-- --:--:--  148k\n",
      "\u001b[0;32m\"69516c84-c610-4656-ac7b-d41849fb6cbc\"\u001b[0m\n",
      "\u001b[0;32m\"124195c0-e5c8-459e-aca2-19a9665a4845\"\u001b[0m\n",
      "\u001b[0;32m\"5736c4f3-ea86-477a-8ae9-0e0ae05f62a3\"\u001b[0m\n",
      "\u001b[0;32m\"3212d315-72eb-4e63-8a91-25ece0718b18\"\u001b[0m\n",
      "\u001b[0;32m\"c99a91a1-2fb0-4d42-88a1-ddc12e7bdaf8\"\u001b[0m\n",
      "\u001b[0;32m\"e79a99b4-46f1-4ace-8d27-bc5f254b7a42\"\u001b[0m\n",
      "\u001b[0;32m\"8a7a15fd-b759-4c09-9117-3dc328b915c2\"\u001b[0m\n",
      "\u001b[0;32m\"889286ad-9e8d-47d2-a3f0-c07de330c81f\"\u001b[0m\n",
      "\u001b[0;32m\"553cc539-f32e-4db5-9a41-89d759dcf5ae\"\u001b[0m\n",
      "\u001b[0;32m\"8fe67271-b839-4dd4-807d-1c0a2eb04382\"\u001b[0m\n",
      "\u001b[0;32m\"51b861a3-d1fe-403e-b2db-fa8467a40c0b\"\u001b[0m\n",
      "\u001b[0;32m\"6926ab40-9d1a-462c-979d-21f1dd5df061\"\u001b[0m\n"
     ]
    }
   ],
   "source": [
    "benchmark_id='5a0f5641-01ae-4f48-b5d1-84cd9c87dfac'\n",
    "results=$(curl -X 'GET' \"$eosc_perf_api/results?benchmark_id=$benchmark_id\")\n",
    "results_ids=$(echo $results | jq '.items[].id')\n",
    "echo $results_ids | jq"
   ]
  },
  {
   "cell_type": "markdown",
   "id": "249c1c7a",
   "metadata": {},
   "source": []
  }
 ],
 "metadata": {
  "kernelspec": {
   "display_name": "Bash",
   "language": "bash",
   "name": "bash"
  },
  "language_info": {
   "codemirror_mode": "shell",
   "file_extension": ".sh",
   "mimetype": "text/x-sh",
   "name": "bash"
  }
 },
 "nbformat": 4,
 "nbformat_minor": 5
}
