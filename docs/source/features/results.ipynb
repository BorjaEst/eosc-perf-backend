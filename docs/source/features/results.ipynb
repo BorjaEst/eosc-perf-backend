{
 "cells": [
  {
   "cell_type": "markdown",
   "id": "1497f3d4",
   "metadata": {},
   "source": [
    "# Using /results\n",
    "In this example we are going to explore deeply the options available when collecting and uploading benchmark results at EOSC Performance."
   ]
  },
  {
   "cell_type": "markdown",
   "id": "3267ddf2",
   "metadata": {},
   "source": [
    "### Create the environment\n",
    "To do so, we select an API endpoint and collect a token from our configuration. <br>\n",
    "We also need an access token, in this example we use [oidc-agent](https://github.com/indigo-dc/oidc-agent#:~:text=oidc%2Dagent%20is%20a%20set,session%20or%20a%20login%20session.) to get one. <br>"
   ]
  },
  {
   "cell_type": "code",
   "execution_count": 1,
   "id": "8d9e9155",
   "metadata": {},
   "outputs": [],
   "source": [
    "eosc_perf_api=\"https://performance.services.fedcloud.eu/api/v1\"\n",
    "access_token=$(oidc-token egi-prod)"
   ]
  },
  {
   "cell_type": "markdown",
   "id": "1f437326",
   "metadata": {},
   "source": [
    "### Search for results\n",
    "Configure and limit your search using the multiple arguments and terms available. "
   ]
  },
  {
   "cell_type": "markdown",
   "id": "2675dc90",
   "metadata": {},
   "source": [
    "#### Search for the benchmark id that produced our result\n",
    "You can get a list of all available benchmarks using GET `/benchmarks`."
   ]
  },
  {
   "cell_type": "code",
   "execution_count": 2,
   "id": "54550c11",
   "metadata": {},
   "outputs": [
    {
     "name": "stdout",
     "output_type": "stream",
     "text": [
      "  % Total    % Received % Xferd  Average Speed   Time    Time     Time  Current\n",
      "                                 Dload  Upload   Total   Spent    Left  Speed\n",
      "100  1441  100  1441    0     0  11620      0 --:--:-- --:--:-- --:--:-- 11528\n",
      "\u001b[1;39m{\n",
      "  \u001b[0m\u001b[34;1m\"description\"\u001b[0m\u001b[1;39m: \u001b[0m\u001b[0;32m\"Compare cpu perf with multithreaded raytracing\"\u001b[0m\u001b[1;39m,\n",
      "  \u001b[0m\u001b[34;1m\"docker_image\"\u001b[0m\u001b[1;39m: \u001b[0m\u001b[0;32m\"thechristophe/openbench-c-ray\"\u001b[0m\u001b[1;39m,\n",
      "  \u001b[0m\u001b[34;1m\"docker_tag\"\u001b[0m\u001b[1;39m: \u001b[0m\u001b[0;32m\"latest\"\u001b[0m\u001b[1;39m,\n",
      "  \u001b[0m\u001b[34;1m\"id\"\u001b[0m\u001b[1;39m: \u001b[0m\u001b[0;32m\"1cc7814e-131f-4002-803a-434a287cf135\"\u001b[0m\u001b[1;39m,\n",
      "  \u001b[0m\u001b[34;1m\"json_schema\"\u001b[0m\u001b[1;39m: \u001b[0m\u001b[0;32m\"...\"\u001b[0m\u001b[1;39m,\n",
      "  \u001b[0m\u001b[34;1m\"upload_datetime\"\u001b[0m\u001b[1;39m: \u001b[0m\u001b[0;32m\"2022-02-01T07:58:17.555822\"\u001b[0m\u001b[1;39m\n",
      "\u001b[1;39m}\u001b[0m\n"
     ]
    }
   ],
   "source": [
    "benchmarks=$(curl -X 'GET' \"$eosc_perf_api/benchmarks?docker_image=thechristophe/openbench-c-ray\")\n",
    "benchmark=$(echo $benchmarks | jq '.items[0]')\n",
    "echo $benchmark | jq '.json_schema = \"...\"'"
   ]
  },
  {
   "cell_type": "code",
   "execution_count": 3,
   "id": "3e1bafba",
   "metadata": {},
   "outputs": [
    {
     "name": "stdout",
     "output_type": "stream",
     "text": [
      "  % Total    % Received % Xferd  Average Speed   Time    Time     Time  Current\n",
      "                                 Dload  Upload   Total   Spent    Left  Speed\n",
      "100 74245  100 74245    0     0   895k      0 --:--:-- --:--:-- --:--:--  895k\n",
      "\u001b[0;32m\"07decfe3-8f03-4dcf-b8ee-b47090322e0c\"\u001b[0m\n",
      "\u001b[0;32m\"c2517c02-e195-4bad-8d8d-707ffa8cff9b\"\u001b[0m\n",
      "\u001b[0;32m\"1196b021-7923-44bf-a9f1-d7abd683fe5a\"\u001b[0m\n",
      "\u001b[0;32m\"c45d2d84-2bd7-4fb7-83a7-b9a25d2d034a\"\u001b[0m\n",
      "\u001b[0;32m\"2a04564b-adad-40f0-9c86-062546bf15dd\"\u001b[0m\n",
      "\u001b[0;32m\"f5cdf98c-28db-4c8e-97f8-459ae1e94ee6\"\u001b[0m\n",
      "\u001b[0;32m\"7ddecf46-75c6-46b1-abc7-f566b38de10c\"\u001b[0m\n",
      "\u001b[0;32m\"dd74701b-052d-4302-9d76-96ddc0a11f0c\"\u001b[0m\n",
      "\u001b[0;32m\"f97528bd-f350-427a-8cf0-44dbb2eaf487\"\u001b[0m\n",
      "\u001b[0;32m\"138f4780-1cd5-4d4d-bb36-2b4c86f61147\"\u001b[0m\n",
      "\u001b[0;32m\"a6dde02e-fbf4-4342-ba29-729802aa7b36\"\u001b[0m\n",
      "\u001b[0;32m\"ddad3d39-eae3-43d4-a4b5-36fd9e427e3c\"\u001b[0m\n",
      "\u001b[0;32m\"f8f9beee-705d-4096-870e-6b037ebab86b\"\u001b[0m\n",
      "\u001b[0;32m\"eb2ba92d-479b-420d-bdda-4ac0fda780b4\"\u001b[0m\n",
      "\u001b[0;32m\"244d5872-cfc4-4359-850e-a74314edbe65\"\u001b[0m\n",
      "\u001b[0;32m\"615539ce-c123-4b2c-9de9-aa68dde88055\"\u001b[0m\n",
      "\u001b[0;32m\"768b83de-58a4-426b-ac6a-3d7b1ee1db51\"\u001b[0m\n",
      "\u001b[0;32m\"5c6a7dc1-14be-4b18-af26-cb7089f0607c\"\u001b[0m\n",
      "\u001b[0;32m\"96e95029-c24b-468b-b659-4a0ef6886be2\"\u001b[0m\n",
      "\u001b[0;32m\"0a1d1595-f4d4-4364-99a3-7e1cb2e642e3\"\u001b[0m\n",
      "\u001b[0;32m\"105357bb-8054-4174-9bda-b0020a824ef9\"\u001b[0m\n",
      "\u001b[0;32m\"7f66e8d3-2218-47ad-b697-726343bffb27\"\u001b[0m\n",
      "\u001b[0;32m\"fb0ee217-5f19-4d24-bb86-a1baaf6262d0\"\u001b[0m\n"
     ]
    }
   ],
   "source": [
    "benchmark_id=$(echo $benchmark | jq -r '.id')\n",
    "curl -X 'GET' \"$eosc_perf_api/results?benchmark_id=$benchmark_id\" \\\n",
    "  -H 'accept: application/json' | jq '.items[].id'"
   ]
  },
  {
   "cell_type": "markdown",
   "id": "8a8e02dd",
   "metadata": {},
   "source": [
    "#### Search for the site id used to run our benchmark\n",
    "You can get a list of all available benchmarks using GET `/sites`."
   ]
  },
  {
   "cell_type": "code",
   "execution_count": 4,
   "id": "a25cb726",
   "metadata": {},
   "outputs": [
    {
     "name": "stdout",
     "output_type": "stream",
     "text": [
      "  % Total    % Received % Xferd  Average Speed   Time    Time     Time  Current\n",
      "                                 Dload  Upload   Total   Spent    Left  Speed\n",
      "100   223  100   223    0     0  22300      0 --:--:-- --:--:-- --:--:-- 22300\n",
      "\u001b[1;39m{\n",
      "  \u001b[0m\u001b[34;1m\"address\"\u001b[0m\u001b[1;39m: \u001b[0m\u001b[0;32m\"unknown\"\u001b[0m\u001b[1;39m,\n",
      "  \u001b[0m\u001b[34;1m\"id\"\u001b[0m\u001b[1;39m: \u001b[0m\u001b[0;32m\"17fb17c9-107c-4571-ab1e-120299878342\"\u001b[0m\u001b[1;39m,\n",
      "  \u001b[0m\u001b[34;1m\"name\"\u001b[0m\u001b[1;39m: \u001b[0m\u001b[0;32m\"CESNET-MCC\"\u001b[0m\u001b[1;39m,\n",
      "  \u001b[0m\u001b[34;1m\"upload_datetime\"\u001b[0m\u001b[1;39m: \u001b[0m\u001b[0;32m\"2022-02-01T07:57:42.821704\"\u001b[0m\u001b[1;39m\n",
      "\u001b[1;39m}\u001b[0m\n"
     ]
    }
   ],
   "source": [
    "sites=$(curl -X 'GET' \"$eosc_perf_api/sites?name=CESNET-MCC\")\n",
    "site=$(echo $sites | jq '.items[0]')\n",
    "echo $site | jq"
   ]
  },
  {
   "cell_type": "code",
   "execution_count": 5,
   "id": "1ad4341b",
   "metadata": {},
   "outputs": [
    {
     "name": "stdout",
     "output_type": "stream",
     "text": [
      "  % Total    % Received % Xferd  Average Speed   Time    Time     Time  Current\n",
      "                                 Dload  Upload   Total   Spent    Left  Speed\n",
      "100 13839  100 13839    0     0   409k      0 --:--:-- --:--:-- --:--:--  409k\n",
      "\u001b[0;32m\"2a04564b-adad-40f0-9c86-062546bf15dd\"\u001b[0m\n",
      "\u001b[0;32m\"f5cdf98c-28db-4c8e-97f8-459ae1e94ee6\"\u001b[0m\n",
      "\u001b[0;32m\"7ddecf46-75c6-46b1-abc7-f566b38de10c\"\u001b[0m\n",
      "\u001b[0;32m\"dd74701b-052d-4302-9d76-96ddc0a11f0c\"\u001b[0m\n"
     ]
    }
   ],
   "source": [
    "site_id=$(echo $site | jq -r '.id')\n",
    "curl -X 'GET' \"$eosc_perf_api/results?site_id=$site_id\" \\\n",
    "  -H 'accept: application/json' | jq '.items[].id'"
   ]
  },
  {
   "cell_type": "markdown",
   "id": "38dd903f",
   "metadata": {},
   "source": [
    "#### Search for the flavor id used to run our benchmark\n",
    "If needed you can also get a list of all available flavors in that site using GET `/sites{id}/flavors`."
   ]
  },
  {
   "cell_type": "code",
   "execution_count": 6,
   "id": "21ce88c8",
   "metadata": {},
   "outputs": [
    {
     "name": "stdout",
     "output_type": "stream",
     "text": [
      "  % Total    % Received % Xferd  Average Speed   Time    Time     Time  Current\n",
      "                                 Dload  Upload   Total   Spent    Left  Speed\n",
      "100   225  100   225    0     0  15000      0 --:--:-- --:--:-- --:--:-- 15000\n",
      "\u001b[1;39m{\n",
      "  \u001b[0m\u001b[34;1m\"description\"\u001b[0m\u001b[1;39m: \u001b[0m\u001b[0;32m\"\"\u001b[0m\u001b[1;39m,\n",
      "  \u001b[0m\u001b[34;1m\"id\"\u001b[0m\u001b[1;39m: \u001b[0m\u001b[0;32m\"01210775-cc77-472d-a061-c98760dbb883\"\u001b[0m\u001b[1;39m,\n",
      "  \u001b[0m\u001b[34;1m\"name\"\u001b[0m\u001b[1;39m: \u001b[0m\u001b[0;32m\"hpc.8core-16ram\"\u001b[0m\u001b[1;39m,\n",
      "  \u001b[0m\u001b[34;1m\"upload_datetime\"\u001b[0m\u001b[1;39m: \u001b[0m\u001b[0;32m\"2022-02-01T07:57:48.652778\"\u001b[0m\u001b[1;39m\n",
      "\u001b[1;39m}\u001b[0m\n"
     ]
    }
   ],
   "source": [
    "site_id=$(echo $site | jq -r '.id')\n",
    "flavors=$(curl -X 'GET' \"$eosc_perf_api/sites/$site_id/flavors:search?terms=hpc.8core-16ram\")\n",
    "flavor=$(echo $flavors | jq '.items[0]')\n",
    "echo $flavor | jq"
   ]
  },
  {
   "cell_type": "code",
   "execution_count": 7,
   "id": "8a9c0913",
   "metadata": {},
   "outputs": [
    {
     "name": "stdout",
     "output_type": "stream",
     "text": [
      "  % Total    % Received % Xferd  Average Speed   Time    Time     Time  Current\n",
      "                                 Dload  Upload   Total   Spent    Left  Speed\n",
      "100  3684  100  3684    0     0   179k      0 --:--:-- --:--:-- --:--:--  179k\n",
      "\u001b[0;32m\"dd74701b-052d-4302-9d76-96ddc0a11f0c\"\u001b[0m\n"
     ]
    }
   ],
   "source": [
    "flavor_id=$(echo $flavor | jq -r '.id')\n",
    "curl -X 'GET' \"$eosc_perf_api/results?flavor_id=$flavor_id\" \\\n",
    "  -H 'accept: application/json' | jq '.items[].id'"
   ]
  },
  {
   "cell_type": "markdown",
   "id": "21355385",
   "metadata": {},
   "source": [
    "#### Search for the tags to relate your result\n",
    "Collect the tags you want to link to your result so users can find it easily."
   ]
  },
  {
   "cell_type": "code",
   "execution_count": 8,
   "id": "8ef4fc8e",
   "metadata": {},
   "outputs": [
    {
     "name": "stdout",
     "output_type": "stream",
     "text": [
      "  % Total    % Received % Xferd  Average Speed   Time    Time     Time  Current\n",
      "                                 Dload  Upload   Total   Spent    Left  Speed\n",
      "100   191  100   191    0     0  27285      0 --:--:-- --:--:-- --:--:-- 27285\n",
      "\u001b[1;39m{\n",
      "  \u001b[0m\u001b[34;1m\"description\"\u001b[0m\u001b[1;39m: \u001b[0m\u001b[0;32m\"Result executed using gpu\"\u001b[0m\u001b[1;39m,\n",
      "  \u001b[0m\u001b[34;1m\"id\"\u001b[0m\u001b[1;39m: \u001b[0m\u001b[0;32m\"08156712-4607-469d-903a-d3033b44ab9d\"\u001b[0m\u001b[1;39m,\n",
      "  \u001b[0m\u001b[34;1m\"name\"\u001b[0m\u001b[1;39m: \u001b[0m\u001b[0;32m\"gpu\"\u001b[0m\u001b[1;39m\n",
      "\u001b[1;39m}\u001b[0m\n",
      "  % Total    % Received % Xferd  Average Speed   Time    Time     Time  Current\n",
      "                                 Dload  Upload   Total   Spent    Left  Speed\n",
      "100   195  100   195    0     0  16250      0 --:--:-- --:--:-- --:--:-- 16250\n",
      "\u001b[1;39m{\n",
      "  \u001b[0m\u001b[34;1m\"description\"\u001b[0m\u001b[1;39m: \u001b[0m\u001b[0;32m\"Result executed in hpc system\"\u001b[0m\u001b[1;39m,\n",
      "  \u001b[0m\u001b[34;1m\"id\"\u001b[0m\u001b[1;39m: \u001b[0m\u001b[0;32m\"92f7443d-1991-4bee-8b58-a4189c586a08\"\u001b[0m\u001b[1;39m,\n",
      "  \u001b[0m\u001b[34;1m\"name\"\u001b[0m\u001b[1;39m: \u001b[0m\u001b[0;32m\"hpc\"\u001b[0m\u001b[1;39m\n",
      "\u001b[1;39m}\u001b[0m\n"
     ]
    }
   ],
   "source": [
    "tag_gpu=$(curl -X 'GET' \"$eosc_perf_api/tags?name=gpu\" | jq '.items[0]')\n",
    "echo $tag_gpu | jq\n",
    "tag_hpc=$(curl -X 'GET' \"$eosc_perf_api/tags?name=hpc\" | jq '.items[0]')\n",
    "echo $tag_hpc | jq"
   ]
  },
  {
   "cell_type": "markdown",
   "id": "22f1e731",
   "metadata": {},
   "source": [
    "<div class=\"alert alert-info\">\n",
    "If you do not know the name of the tag you can use `:search` as generic filter.\n",
    "</div>"
   ]
  },
  {
   "cell_type": "code",
   "execution_count": 9,
   "id": "623bede5",
   "metadata": {},
   "outputs": [
    {
     "name": "stdout",
     "output_type": "stream",
     "text": [
      "  % Total    % Received % Xferd  Average Speed   Time    Time     Time  Current\n",
      "                                 Dload  Upload   Total   Spent    Left  Speed\n",
      "100  3684  100  3684    0     0   133k      0 --:--:-- --:--:-- --:--:--  133k\n",
      "\u001b[0;32m\"dd74701b-052d-4302-9d76-96ddc0a11f0c\"\u001b[0m\n"
     ]
    }
   ],
   "source": [
    "tag_1=$(echo $tag_hpc | jq -r '.id')\n",
    "curl -X 'GET' \"$eosc_perf_api/results?tags_ids=$tag_1\" \\\n",
    "  -H 'accept: application/json' | jq '.items[].id'"
   ]
  },
  {
   "cell_type": "markdown",
   "id": "17e97053",
   "metadata": {},
   "source": [
    "#### Search for results between dates\n",
    "If is also possible to filter results by upload and execution date."
   ]
  },
  {
   "cell_type": "code",
   "execution_count": 10,
   "id": "412ee8eb",
   "metadata": {},
   "outputs": [
    {
     "name": "stdout",
     "output_type": "stream",
     "text": [
      "  % Total    % Received % Xferd  Average Speed   Time    Time     Time  Current\n",
      "                                 Dload  Upload   Total   Spent    Left  Speed\n",
      "100 74245  100 74245    0     0  1050k      0 --:--:-- --:--:-- --:--:-- 1050k\n",
      "\u001b[0;32m\"07decfe3-8f03-4dcf-b8ee-b47090322e0c\"\u001b[0m\n",
      "\u001b[0;32m\"c2517c02-e195-4bad-8d8d-707ffa8cff9b\"\u001b[0m\n",
      "\u001b[0;32m\"1196b021-7923-44bf-a9f1-d7abd683fe5a\"\u001b[0m\n",
      "\u001b[0;32m\"c45d2d84-2bd7-4fb7-83a7-b9a25d2d034a\"\u001b[0m\n",
      "\u001b[0;32m\"2a04564b-adad-40f0-9c86-062546bf15dd\"\u001b[0m\n",
      "\u001b[0;32m\"f5cdf98c-28db-4c8e-97f8-459ae1e94ee6\"\u001b[0m\n",
      "\u001b[0;32m\"7ddecf46-75c6-46b1-abc7-f566b38de10c\"\u001b[0m\n",
      "\u001b[0;32m\"dd74701b-052d-4302-9d76-96ddc0a11f0c\"\u001b[0m\n",
      "\u001b[0;32m\"f97528bd-f350-427a-8cf0-44dbb2eaf487\"\u001b[0m\n",
      "\u001b[0;32m\"138f4780-1cd5-4d4d-bb36-2b4c86f61147\"\u001b[0m\n",
      "\u001b[0;32m\"a6dde02e-fbf4-4342-ba29-729802aa7b36\"\u001b[0m\n",
      "\u001b[0;32m\"ddad3d39-eae3-43d4-a4b5-36fd9e427e3c\"\u001b[0m\n",
      "\u001b[0;32m\"f8f9beee-705d-4096-870e-6b037ebab86b\"\u001b[0m\n",
      "\u001b[0;32m\"eb2ba92d-479b-420d-bdda-4ac0fda780b4\"\u001b[0m\n",
      "\u001b[0;32m\"244d5872-cfc4-4359-850e-a74314edbe65\"\u001b[0m\n",
      "\u001b[0;32m\"615539ce-c123-4b2c-9de9-aa68dde88055\"\u001b[0m\n",
      "\u001b[0;32m\"768b83de-58a4-426b-ac6a-3d7b1ee1db51\"\u001b[0m\n",
      "\u001b[0;32m\"5c6a7dc1-14be-4b18-af26-cb7089f0607c\"\u001b[0m\n",
      "\u001b[0;32m\"96e95029-c24b-468b-b659-4a0ef6886be2\"\u001b[0m\n",
      "\u001b[0;32m\"0a1d1595-f4d4-4364-99a3-7e1cb2e642e3\"\u001b[0m\n",
      "\u001b[0;32m\"105357bb-8054-4174-9bda-b0020a824ef9\"\u001b[0m\n",
      "\u001b[0;32m\"7f66e8d3-2218-47ad-b697-726343bffb27\"\u001b[0m\n",
      "\u001b[0;32m\"fb0ee217-5f19-4d24-bb86-a1baaf6262d0\"\u001b[0m\n"
     ]
    }
   ],
   "source": [
    "upload_before='2023-01-01'\n",
    "execution_after='2000-01-01'\n",
    "\n",
    "curl -X 'GET' \"$eosc_perf_api/results?upload_before=$upload_before&execution_after=$execution_after\" \\\n",
    "  -H 'accept: application/json' | jq '.items[].id'"
   ]
  },
  {
   "cell_type": "markdown",
   "id": "46cd874f",
   "metadata": {},
   "source": [
    "#### Search using custom filters\n",
    "If is also possible to filter results specific values inside the result (if you know the result structure)."
   ]
  },
  {
   "cell_type": "code",
   "execution_count": 11,
   "id": "c474ecfa",
   "metadata": {},
   "outputs": [
    {
     "name": "stdout",
     "output_type": "stream",
     "text": [
      "  % Total    % Received % Xferd  Average Speed   Time    Time     Time  Current\n",
      "                                 Dload  Upload   Total   Spent    Left  Speed\n",
      "100 25917  100 25917    0     0   377k      0 --:--:-- --:--:-- --:--:--  383k\n",
      "\u001b[0;32m\"c2517c02-e195-4bad-8d8d-707ffa8cff9b\"\u001b[0m\n",
      "\u001b[0;32m\"1196b021-7923-44bf-a9f1-d7abd683fe5a\"\u001b[0m\n",
      "\u001b[0;32m\"dd74701b-052d-4302-9d76-96ddc0a11f0c\"\u001b[0m\n",
      "\u001b[0;32m\"ddad3d39-eae3-43d4-a4b5-36fd9e427e3c\"\u001b[0m\n",
      "\u001b[0;32m\"f8f9beee-705d-4096-870e-6b037ebab86b\"\u001b[0m\n",
      "\u001b[0;32m\"768b83de-58a4-426b-ac6a-3d7b1ee1db51\"\u001b[0m\n",
      "\u001b[0;32m\"105357bb-8054-4174-9bda-b0020a824ef9\"\u001b[0m\n",
      "\u001b[0;32m\"7f66e8d3-2218-47ad-b697-726343bffb27\"\u001b[0m\n"
     ]
    }
   ],
   "source": [
    "benchmark_id='1cc7814e-131f-4002-803a-434a287cf135'\n",
    "filter_1='machine.cpu.count%20%3E%204'\n",
    "filter_2='machine.cpu.count%20%3C%2020'\n",
    "\n",
    "curl -X 'GET' \"$eosc_perf_api/results?benchmark_id=$benchmark_id&filters=$filter_1&filters=$filter_2\" \\\n",
    "  -H 'accept: application/json' | jq '.items[].id'"
   ]
  },
  {
   "cell_type": "markdown",
   "id": "1aa86ca8",
   "metadata": {},
   "source": [
    "<div class=\"alert alert-info\">\n",
    "If you do not want results that does not include the field in the response, we recommend that you use a benchmark id.\n",
    "</div>"
   ]
  },
  {
   "cell_type": "markdown",
   "id": "ae6e2b51",
   "metadata": {},
   "source": [
    "#### Configure sorting and use pagination\n",
    "For all the previous options, it is possible to sort the results using the following fields:\n",
    "\n",
    "- **id**: Result id.\n",
    "- **upload_datetime**: EOSC Performance upload datetime of the result.\n",
    "- **json**: Result json values.\n",
    "- **execution_datetime**: Execution date of the benchmark.\n",
    "- **benchmark_id**: Benchmark id used to obtain the result.\n",
    "- **flavor_id**: Favor id used to run the benchmark.\n",
    "- **site_id**: Site id where the benchmark was executed.\n",
    "\n",
    "In addition, sometimes you might get more results that expected. In such case you will have to use pagination to collect all the items. To do so you can use the following parameters:\n",
    "\n",
    "- **per_page**: The number of items to be displayed on a page (maximum 100)\n",
    "- **page**: The return page number (1 indexed)"
   ]
  },
  {
   "cell_type": "code",
   "execution_count": 12,
   "id": "9e03f9a3",
   "metadata": {},
   "outputs": [
    {
     "name": "stdout",
     "output_type": "stream",
     "text": [
      "  % Total    % Received % Xferd  Average Speed   Time    Time     Time  Current\n",
      "                                 Dload  Upload   Total   Spent    Left  Speed\n",
      "100 13086  100 13086    0     0   399k      0 --:--:-- --:--:-- --:--:--  399k\n",
      "\u001b[0;32m\"138f4780-1cd5-4d4d-bb36-2b4c86f61147\"\u001b[0m\n",
      "\u001b[0;32m\"244d5872-cfc4-4359-850e-a74314edbe65\"\u001b[0m\n",
      "\u001b[0;32m\"2a04564b-adad-40f0-9c86-062546bf15dd\"\u001b[0m\n",
      "\u001b[0;32m\"5c6a7dc1-14be-4b18-af26-cb7089f0607c\"\u001b[0m\n"
     ]
    }
   ],
   "source": [
    "curl -X 'GET' \"$eosc_perf_api/results?per_page=4&page=2&sort_by=%2Bid\" \\\n",
    "  -H 'accept: application/json' | jq '.items[].id'"
   ]
  },
  {
   "cell_type": "markdown",
   "id": "286b2f6a",
   "metadata": {},
   "source": [
    "### Upload results"
   ]
  },
  {
   "cell_type": "markdown",
   "id": "117c3e4e",
   "metadata": {},
   "source": [
    "#### (Conditional) Register, if not done already\n",
    "To use our service as user, first we need to accept the terms of usage and register. <br>\n",
    "Make sure to read the [terms and conditions](https://performance.services.fedcloud.eu/privacy_policy)."
   ]
  },
  {
   "cell_type": "code",
   "execution_count": null,
   "id": "adbecfc5",
   "metadata": {},
   "outputs": [],
   "source": [
    "curl -X 'POST' \\\n",
    "  \"$eosc_perf_api/users:register\" \\\n",
    "  -H \"Authorization: Bearer $access_token\""
   ]
  },
  {
   "cell_type": "markdown",
   "id": "c34b75e6",
   "metadata": {},
   "source": [
    "#### Search for the benchmark id that produced our result\n",
    "You can get a list of all available benchmarks using GET `/benchmarks`."
   ]
  },
  {
   "cell_type": "code",
   "execution_count": 14,
   "id": "6884b3d0",
   "metadata": {},
   "outputs": [
    {
     "name": "stdout",
     "output_type": "stream",
     "text": [
      "  % Total    % Received % Xferd  Average Speed   Time    Time     Time  Current\n",
      "                                 Dload  Upload   Total   Spent    Left  Speed\n",
      "100  1441  100  1441    0     0   234k      0 --:--:-- --:--:-- --:--:--  234k\n",
      "\u001b[1;39m{\n",
      "  \u001b[0m\u001b[34;1m\"description\"\u001b[0m\u001b[1;39m: \u001b[0m\u001b[0;32m\"Compare cpu perf with multithreaded raytracing\"\u001b[0m\u001b[1;39m,\n",
      "  \u001b[0m\u001b[34;1m\"docker_image\"\u001b[0m\u001b[1;39m: \u001b[0m\u001b[0;32m\"thechristophe/openbench-c-ray\"\u001b[0m\u001b[1;39m,\n",
      "  \u001b[0m\u001b[34;1m\"docker_tag\"\u001b[0m\u001b[1;39m: \u001b[0m\u001b[0;32m\"latest\"\u001b[0m\u001b[1;39m,\n",
      "  \u001b[0m\u001b[34;1m\"id\"\u001b[0m\u001b[1;39m: \u001b[0m\u001b[0;32m\"1cc7814e-131f-4002-803a-434a287cf135\"\u001b[0m\u001b[1;39m,\n",
      "  \u001b[0m\u001b[34;1m\"json_schema\"\u001b[0m\u001b[1;39m: \u001b[0m\u001b[0;32m\"...\"\u001b[0m\u001b[1;39m,\n",
      "  \u001b[0m\u001b[34;1m\"upload_datetime\"\u001b[0m\u001b[1;39m: \u001b[0m\u001b[0;32m\"2022-02-01T07:58:17.555822\"\u001b[0m\u001b[1;39m\n",
      "\u001b[1;39m}\u001b[0m\n"
     ]
    }
   ],
   "source": [
    "benchmarks=$(curl -X 'GET' \"$eosc_perf_api/benchmarks?docker_image=thechristophe/openbench-c-ray\")\n",
    "benchmark=$(echo $benchmarks | jq '.items[0]')\n",
    "echo $benchmark | jq '.json_schema = \"...\"'"
   ]
  },
  {
   "cell_type": "markdown",
   "id": "fff7dbc9",
   "metadata": {},
   "source": [
    "<div class=\"alert alert-info\">\n",
    "Benchmarks are public to the Internet, access token is not needed.\n",
    "</div>"
   ]
  },
  {
   "cell_type": "markdown",
   "id": "8c2553b8",
   "metadata": {},
   "source": [
    "#### Search for the flavor id used to run our benchmark\n",
    "First you need to find the site where the benchmark was run. <br>\n",
    "Once the site id is collected, it is possible to access and select the site flavors. <br>"
   ]
  },
  {
   "cell_type": "code",
   "execution_count": 15,
   "id": "38d52803",
   "metadata": {},
   "outputs": [
    {
     "name": "stdout",
     "output_type": "stream",
     "text": [
      "  % Total    % Received % Xferd  Average Speed   Time    Time     Time  Current\n",
      "                                 Dload  Upload   Total   Spent    Left  Speed\n",
      "100   223  100   223    0     0  31857      0 --:--:-- --:--:-- --:--:-- 31857\n",
      "\u001b[1;39m{\n",
      "  \u001b[0m\u001b[34;1m\"address\"\u001b[0m\u001b[1;39m: \u001b[0m\u001b[0;32m\"unknown\"\u001b[0m\u001b[1;39m,\n",
      "  \u001b[0m\u001b[34;1m\"id\"\u001b[0m\u001b[1;39m: \u001b[0m\u001b[0;32m\"17fb17c9-107c-4571-ab1e-120299878342\"\u001b[0m\u001b[1;39m,\n",
      "  \u001b[0m\u001b[34;1m\"name\"\u001b[0m\u001b[1;39m: \u001b[0m\u001b[0;32m\"CESNET-MCC\"\u001b[0m\u001b[1;39m,\n",
      "  \u001b[0m\u001b[34;1m\"upload_datetime\"\u001b[0m\u001b[1;39m: \u001b[0m\u001b[0;32m\"2022-02-01T07:57:42.821704\"\u001b[0m\u001b[1;39m\n",
      "\u001b[1;39m}\u001b[0m\n"
     ]
    }
   ],
   "source": [
    "sites=$(curl -X 'GET' \"$eosc_perf_api/sites?name=CESNET-MCC\")\n",
    "site=$(echo $sites | jq '.items[0]')\n",
    "echo $site | jq"
   ]
  },
  {
   "cell_type": "markdown",
   "id": "dcd4939c",
   "metadata": {},
   "source": [
    "<div class=\"alert alert-info\">\n",
    "In this example we will use `:search` endpoint to find the flavor.\n",
    "</div>"
   ]
  },
  {
   "cell_type": "code",
   "execution_count": 16,
   "id": "6a1c743b",
   "metadata": {},
   "outputs": [
    {
     "name": "stdout",
     "output_type": "stream",
     "text": [
      "  % Total    % Received % Xferd  Average Speed   Time    Time     Time  Current\n",
      "                                 Dload  Upload   Total   Spent    Left  Speed\n",
      "100   225  100   225    0     0  25000      0 --:--:-- --:--:-- --:--:-- 25000\n",
      "\u001b[1;39m{\n",
      "  \u001b[0m\u001b[34;1m\"description\"\u001b[0m\u001b[1;39m: \u001b[0m\u001b[0;32m\"\"\u001b[0m\u001b[1;39m,\n",
      "  \u001b[0m\u001b[34;1m\"id\"\u001b[0m\u001b[1;39m: \u001b[0m\u001b[0;32m\"01210775-cc77-472d-a061-c98760dbb883\"\u001b[0m\u001b[1;39m,\n",
      "  \u001b[0m\u001b[34;1m\"name\"\u001b[0m\u001b[1;39m: \u001b[0m\u001b[0;32m\"hpc.8core-16ram\"\u001b[0m\u001b[1;39m,\n",
      "  \u001b[0m\u001b[34;1m\"upload_datetime\"\u001b[0m\u001b[1;39m: \u001b[0m\u001b[0;32m\"2022-02-01T07:57:48.652778\"\u001b[0m\u001b[1;39m\n",
      "\u001b[1;39m}\u001b[0m\n"
     ]
    }
   ],
   "source": [
    "site_id=$(echo $site | jq -r '.id')\n",
    "flavors=$(curl -X 'GET' \"$eosc_perf_api/sites/$site_id/flavors:search?terms=hpc.8core-16ram\")\n",
    "flavor=$(echo $flavors | jq '.items[0]')\n",
    "echo $flavor | jq"
   ]
  },
  {
   "cell_type": "markdown",
   "id": "71449bcc",
   "metadata": {},
   "source": [
    "#### Search for the tags to relate your result\n",
    "Collect the tags you want to link to your result so users can find it easily."
   ]
  },
  {
   "cell_type": "markdown",
   "id": "474401a0",
   "metadata": {},
   "source": [
    "<div class=\"alert alert-info\">\n",
    "If you do not know the name of the tag you can use `:search` as generic filter.\n",
    "</div>"
   ]
  },
  {
   "cell_type": "code",
   "execution_count": 17,
   "id": "6668a777",
   "metadata": {},
   "outputs": [
    {
     "name": "stdout",
     "output_type": "stream",
     "text": [
      "  % Total    % Received % Xferd  Average Speed   Time    Time     Time  Current\n",
      "                                 Dload  Upload   Total   Spent    Left  Speed\n",
      "100   195  100   195    0     0   8863      0 --:--:-- --:--:-- --:--:--  8863\n",
      "\u001b[1;39m{\n",
      "  \u001b[0m\u001b[34;1m\"description\"\u001b[0m\u001b[1;39m: \u001b[0m\u001b[0;32m\"Result executed in hpc system\"\u001b[0m\u001b[1;39m,\n",
      "  \u001b[0m\u001b[34;1m\"id\"\u001b[0m\u001b[1;39m: \u001b[0m\u001b[0;32m\"92f7443d-1991-4bee-8b58-a4189c586a08\"\u001b[0m\u001b[1;39m,\n",
      "  \u001b[0m\u001b[34;1m\"name\"\u001b[0m\u001b[1;39m: \u001b[0m\u001b[0;32m\"hpc\"\u001b[0m\u001b[1;39m\n",
      "\u001b[1;39m}\u001b[0m\n"
     ]
    }
   ],
   "source": [
    "tag_hpc=$(curl -X 'GET' \"$eosc_perf_api/tags?name=hpc\" | jq '.items[0]')\n",
    "echo $tag_hpc | jq"
   ]
  },
  {
   "cell_type": "markdown",
   "id": "a390bec3",
   "metadata": {},
   "source": [
    "#### Upload your result\n",
    "Use an execution datetime and the collected *site_id* and *flavor_id* to upload a result."
   ]
  },
  {
   "cell_type": "code",
   "execution_count": 18,
   "id": "11edbea6",
   "metadata": {},
   "outputs": [],
   "source": [
    "execution_datetime=\"2022-01-01T10:00:00.00000Z\"\n",
    "benchmark_id=$(echo $benchmark | jq -r '.id')\n",
    "flavor_id=$(echo $flavor | jq -r '.id')\n",
    "tag1_id=$(echo $tag_hpc | jq -r '.id')\n",
    "result_json='{\"arguments\": \"Total Time - 4K, 16 Rays Per Pixel\", \"machine\": {\"cpu\": {\"count\": 4}}, \"result\": {\"all_results\": \"155.995:157.626:156.195\", \"score\": 156.605}, \"test\": \"pts/c-ray-1.2.0\", \"units\": \"Seconds\"}'"
   ]
  },
  {
   "cell_type": "code",
   "execution_count": 19,
   "id": "f9ed6818",
   "metadata": {},
   "outputs": [
    {
     "name": "stdout",
     "output_type": "stream",
     "text": [
      "  % Total    % Received % Xferd  Average Speed   Time    Time     Time  Current\n",
      "                                 Dload  Upload   Total   Spent    Left  Speed\n",
      "100  2299  100  2095  100   204   1847    179  0:00:01  0:00:01 --:--:--  2027\n",
      "\u001b[1;39m{\n",
      "  \u001b[0m\u001b[34;1m\"benchmark\"\u001b[0m\u001b[1;39m: \u001b[0m\u001b[1;39m{\n",
      "    \u001b[0m\u001b[34;1m\"description\"\u001b[0m\u001b[1;39m: \u001b[0m\u001b[0;32m\"Compare cpu perf with multithreaded raytracing\"\u001b[0m\u001b[1;39m,\n",
      "    \u001b[0m\u001b[34;1m\"docker_image\"\u001b[0m\u001b[1;39m: \u001b[0m\u001b[0;32m\"thechristophe/openbench-c-ray\"\u001b[0m\u001b[1;39m,\n",
      "    \u001b[0m\u001b[34;1m\"docker_tag\"\u001b[0m\u001b[1;39m: \u001b[0m\u001b[0;32m\"latest\"\u001b[0m\u001b[1;39m,\n",
      "    \u001b[0m\u001b[34;1m\"id\"\u001b[0m\u001b[1;39m: \u001b[0m\u001b[0;32m\"1cc7814e-131f-4002-803a-434a287cf135\"\u001b[0m\u001b[1;39m,\n",
      "    \u001b[0m\u001b[34;1m\"json_schema\"\u001b[0m\u001b[1;39m: \u001b[0m\u001b[1;39m{\n",
      "      \u001b[0m\u001b[34;1m\"$schema\"\u001b[0m\u001b[1;39m: \u001b[0m\u001b[0;32m\"https://json-schema.org/draft/2020-12/schema\"\u001b[0m\u001b[1;39m,\n",
      "      \u001b[0m\u001b[34;1m\"properties\"\u001b[0m\u001b[1;39m: \u001b[0m\u001b[1;39m{\n",
      "        \u001b[0m\u001b[34;1m\"arguments\"\u001b[0m\u001b[1;39m: \u001b[0m\u001b[1;39m{\n",
      "          \u001b[0m\u001b[34;1m\"const\"\u001b[0m\u001b[1;39m: \u001b[0m\u001b[0;32m\"Total Time - 4K, 16 Rays Per Pixel\"\u001b[0m\u001b[1;39m\n",
      "        \u001b[1;39m}\u001b[0m\u001b[1;39m,\n",
      "        \u001b[0m\u001b[34;1m\"machine\"\u001b[0m\u001b[1;39m: \u001b[0m\u001b[1;39m{\n",
      "          \u001b[0m\u001b[34;1m\"properties\"\u001b[0m\u001b[1;39m: \u001b[0m\u001b[1;39m{\n",
      "            \u001b[0m\u001b[34;1m\"cpu\"\u001b[0m\u001b[1;39m: \u001b[0m\u001b[1;39m{\n",
      "              \u001b[0m\u001b[34;1m\"properties\"\u001b[0m\u001b[1;39m: \u001b[0m\u001b[1;39m{\n",
      "                \u001b[0m\u001b[34;1m\"arch\"\u001b[0m\u001b[1;39m: \u001b[0m\u001b[1;39m{\n",
      "                  \u001b[0m\u001b[34;1m\"description\"\u001b[0m\u001b[1;39m: \u001b[0m\u001b[0;32m\"Processor architecture\"\u001b[0m\u001b[1;39m,\n",
      "                  \u001b[0m\u001b[34;1m\"suggestToUser\"\u001b[0m\u001b[1;39m: \u001b[0m\u001b[0;39mtrue\u001b[0m\u001b[1;39m,\n",
      "                  \u001b[0m\u001b[34;1m\"type\"\u001b[0m\u001b[1;39m: \u001b[0m\u001b[0;32m\"string\"\u001b[0m\u001b[1;39m\n",
      "                \u001b[1;39m}\u001b[0m\u001b[1;39m,\n",
      "                \u001b[0m\u001b[34;1m\"bits\"\u001b[0m\u001b[1;39m: \u001b[0m\u001b[1;39m{\n",
      "                  \u001b[0m\u001b[34;1m\"description\"\u001b[0m\u001b[1;39m: \u001b[0m\u001b[0;32m\"Processor address size\"\u001b[0m\u001b[1;39m,\n",
      "                  \u001b[0m\u001b[34;1m\"type\"\u001b[0m\u001b[1;39m: \u001b[0m\u001b[0;32m\"number\"\u001b[0m\u001b[1;39m\n",
      "                \u001b[1;39m}\u001b[0m\u001b[1;39m,\n",
      "                \u001b[0m\u001b[34;1m\"brand_raw\"\u001b[0m\u001b[1;39m: \u001b[0m\u001b[1;39m{\n",
      "                  \u001b[0m\u001b[34;1m\"description\"\u001b[0m\u001b[1;39m: \u001b[0m\u001b[0;32m\"Human-readable processor branding\"\u001b[0m\u001b[1;39m,\n",
      "                  \u001b[0m\u001b[34;1m\"type\"\u001b[0m\u001b[1;39m: \u001b[0m\u001b[0;32m\"string\"\u001b[0m\u001b[1;39m\n",
      "                \u001b[1;39m}\u001b[0m\u001b[1;39m,\n",
      "                \u001b[0m\u001b[34;1m\"count\"\u001b[0m\u001b[1;39m: \u001b[0m\u001b[1;39m{\n",
      "                  \u001b[0m\u001b[34;1m\"description\"\u001b[0m\u001b[1;39m: \u001b[0m\u001b[0;32m\"Processor core count\"\u001b[0m\u001b[1;39m,\n",
      "                  \u001b[0m\u001b[34;1m\"suggestToUser\"\u001b[0m\u001b[1;39m: \u001b[0m\u001b[0;39mtrue\u001b[0m\u001b[1;39m,\n",
      "                  \u001b[0m\u001b[34;1m\"type\"\u001b[0m\u001b[1;39m: \u001b[0m\u001b[0;32m\"number\"\u001b[0m\u001b[1;39m\n",
      "                \u001b[1;39m}\u001b[0m\u001b[1;39m,\n",
      "                \u001b[0m\u001b[34;1m\"hz_actual_friendly\"\u001b[0m\u001b[1;39m: \u001b[0m\u001b[1;39m{\n",
      "                  \u001b[0m\u001b[34;1m\"description\"\u001b[0m\u001b[1;39m: \u001b[0m\u001b[0;32m\"Human-readable maximum processor frequency\"\u001b[0m\u001b[1;39m,\n",
      "                  \u001b[0m\u001b[34;1m\"type\"\u001b[0m\u001b[1;39m: \u001b[0m\u001b[0;32m\"string\"\u001b[0m\u001b[1;39m\n",
      "                \u001b[1;39m}\u001b[0m\u001b[1;39m\n",
      "              \u001b[1;39m}\u001b[0m\u001b[1;39m,\n",
      "              \u001b[0m\u001b[34;1m\"required\"\u001b[0m\u001b[1;39m: \u001b[0m\u001b[1;39m[\n",
      "                \u001b[0;32m\"count\"\u001b[0m\u001b[1;39m\n",
      "              \u001b[1;39m]\u001b[0m\u001b[1;39m,\n",
      "              \u001b[0m\u001b[34;1m\"type\"\u001b[0m\u001b[1;39m: \u001b[0m\u001b[0;32m\"object\"\u001b[0m\u001b[1;39m\n",
      "            \u001b[1;39m}\u001b[0m\u001b[1;39m\n",
      "          \u001b[1;39m}\u001b[0m\u001b[1;39m,\n",
      "          \u001b[0m\u001b[34;1m\"type\"\u001b[0m\u001b[1;39m: \u001b[0m\u001b[0;32m\"object\"\u001b[0m\u001b[1;39m\n",
      "        \u001b[1;39m}\u001b[0m\u001b[1;39m,\n",
      "        \u001b[0m\u001b[34;1m\"result\"\u001b[0m\u001b[1;39m: \u001b[0m\u001b[1;39m{\n",
      "          \u001b[0m\u001b[34;1m\"description\"\u001b[0m\u001b[1;39m: \u001b[0m\u001b[0;32m\"The execution results\"\u001b[0m\u001b[1;39m,\n",
      "          \u001b[0m\u001b[34;1m\"properties\"\u001b[0m\u001b[1;39m: \u001b[0m\u001b[1;39m{\n",
      "            \u001b[0m\u001b[34;1m\"all_results\"\u001b[0m\u001b[1;39m: \u001b[0m\u001b[1;39m{\n",
      "              \u001b[0m\u001b[34;1m\"description\"\u001b[0m\u001b[1;39m: \u001b[0m\u001b[0;32m\"Concatenated string of all scores\"\u001b[0m\u001b[1;39m,\n",
      "              \u001b[0m\u001b[34;1m\"type\"\u001b[0m\u001b[1;39m: \u001b[0m\u001b[0;32m\"string\"\u001b[0m\u001b[1;39m\n",
      "            \u001b[1;39m}\u001b[0m\u001b[1;39m,\n",
      "            \u001b[0m\u001b[34;1m\"score\"\u001b[0m\u001b[1;39m: \u001b[0m\u001b[1;39m{\n",
      "              \u001b[0m\u001b[34;1m\"description\"\u001b[0m\u001b[1;39m: \u001b[0m\u001b[0;32m\"Average time in seconds for benchmark completion (lower is better)\"\u001b[0m\u001b[1;39m,\n",
      "              \u001b[0m\u001b[34;1m\"suggestToUser\"\u001b[0m\u001b[1;39m: \u001b[0m\u001b[0;39mtrue\u001b[0m\u001b[1;39m,\n",
      "              \u001b[0m\u001b[34;1m\"type\"\u001b[0m\u001b[1;39m: \u001b[0m\u001b[0;32m\"number\"\u001b[0m\u001b[1;39m\n",
      "            \u001b[1;39m}\u001b[0m\u001b[1;39m\n",
      "          \u001b[1;39m}\u001b[0m\u001b[1;39m,\n",
      "          \u001b[0m\u001b[34;1m\"required\"\u001b[0m\u001b[1;39m: \u001b[0m\u001b[1;39m[\n",
      "            \u001b[0;32m\"all_results\"\u001b[0m\u001b[1;39m,\n",
      "            \u001b[0;32m\"score\"\u001b[0m\u001b[1;39m\n",
      "          \u001b[1;39m]\u001b[0m\u001b[1;39m,\n",
      "          \u001b[0m\u001b[34;1m\"type\"\u001b[0m\u001b[1;39m: \u001b[0m\u001b[0;32m\"object\"\u001b[0m\u001b[1;39m\n",
      "        \u001b[1;39m}\u001b[0m\u001b[1;39m,\n",
      "        \u001b[0m\u001b[34;1m\"test\"\u001b[0m\u001b[1;39m: \u001b[0m\u001b[1;39m{\n",
      "          \u001b[0m\u001b[34;1m\"const\"\u001b[0m\u001b[1;39m: \u001b[0m\u001b[0;32m\"pts/c-ray-1.2.0\"\u001b[0m\u001b[1;39m\n",
      "        \u001b[1;39m}\u001b[0m\u001b[1;39m,\n",
      "        \u001b[0m\u001b[34;1m\"units\"\u001b[0m\u001b[1;39m: \u001b[0m\u001b[1;39m{\n",
      "          \u001b[0m\u001b[34;1m\"const\"\u001b[0m\u001b[1;39m: \u001b[0m\u001b[0;32m\"Seconds\"\u001b[0m\u001b[1;39m\n",
      "        \u001b[1;39m}\u001b[0m\u001b[1;39m\n",
      "      \u001b[1;39m}\u001b[0m\u001b[1;39m,\n",
      "      \u001b[0m\u001b[34;1m\"required\"\u001b[0m\u001b[1;39m: \u001b[0m\u001b[1;39m[\n",
      "        \u001b[0;32m\"arguments\"\u001b[0m\u001b[1;39m,\n",
      "        \u001b[0;32m\"machine\"\u001b[0m\u001b[1;39m,\n",
      "        \u001b[0;32m\"result\"\u001b[0m\u001b[1;39m,\n",
      "        \u001b[0;32m\"test\"\u001b[0m\u001b[1;39m,\n",
      "        \u001b[0;32m\"units\"\u001b[0m\u001b[1;39m\n",
      "      \u001b[1;39m]\u001b[0m\u001b[1;39m,\n",
      "      \u001b[0m\u001b[34;1m\"type\"\u001b[0m\u001b[1;39m: \u001b[0m\u001b[0;32m\"object\"\u001b[0m\u001b[1;39m\n",
      "    \u001b[1;39m}\u001b[0m\u001b[1;39m,\n",
      "    \u001b[0m\u001b[34;1m\"upload_datetime\"\u001b[0m\u001b[1;39m: \u001b[0m\u001b[0;32m\"2022-02-01T07:58:17.555822\"\u001b[0m\u001b[1;39m\n",
      "  \u001b[1;39m}\u001b[0m\u001b[1;39m,\n",
      "  \u001b[0m\u001b[34;1m\"execution_datetime\"\u001b[0m\u001b[1;39m: \u001b[0m\u001b[0;32m\"2022-01-01T10:00:00\"\u001b[0m\u001b[1;39m,\n",
      "  \u001b[0m\u001b[34;1m\"flavor\"\u001b[0m\u001b[1;39m: \u001b[0m\u001b[1;39m{\n",
      "    \u001b[0m\u001b[34;1m\"description\"\u001b[0m\u001b[1;39m: \u001b[0m\u001b[0;32m\"\"\u001b[0m\u001b[1;39m,\n",
      "    \u001b[0m\u001b[34;1m\"id\"\u001b[0m\u001b[1;39m: \u001b[0m\u001b[0;32m\"01210775-cc77-472d-a061-c98760dbb883\"\u001b[0m\u001b[1;39m,\n",
      "    \u001b[0m\u001b[34;1m\"name\"\u001b[0m\u001b[1;39m: \u001b[0m\u001b[0;32m\"hpc.8core-16ram\"\u001b[0m\u001b[1;39m,\n",
      "    \u001b[0m\u001b[34;1m\"upload_datetime\"\u001b[0m\u001b[1;39m: \u001b[0m\u001b[0;32m\"2022-02-01T07:57:48.652778\"\u001b[0m\u001b[1;39m\n",
      "  \u001b[1;39m}\u001b[0m\u001b[1;39m,\n",
      "  \u001b[0m\u001b[34;1m\"id\"\u001b[0m\u001b[1;39m: \u001b[0m\u001b[0;32m\"76c5773a-52d7-408b-961b-e6d3ad06c640\"\u001b[0m\u001b[1;39m,\n",
      "  \u001b[0m\u001b[34;1m\"json\"\u001b[0m\u001b[1;39m: \u001b[0m\u001b[1;39m{\n",
      "    \u001b[0m\u001b[34;1m\"arguments\"\u001b[0m\u001b[1;39m: \u001b[0m\u001b[0;32m\"Total Time - 4K, 16 Rays Per Pixel\"\u001b[0m\u001b[1;39m,\n",
      "    \u001b[0m\u001b[34;1m\"machine\"\u001b[0m\u001b[1;39m: \u001b[0m\u001b[1;39m{\n",
      "      \u001b[0m\u001b[34;1m\"cpu\"\u001b[0m\u001b[1;39m: \u001b[0m\u001b[1;39m{\n",
      "        \u001b[0m\u001b[34;1m\"count\"\u001b[0m\u001b[1;39m: \u001b[0m\u001b[0;39m4\u001b[0m\u001b[1;39m\n",
      "      \u001b[1;39m}\u001b[0m\u001b[1;39m\n",
      "    \u001b[1;39m}\u001b[0m\u001b[1;39m,\n",
      "    \u001b[0m\u001b[34;1m\"result\"\u001b[0m\u001b[1;39m: \u001b[0m\u001b[1;39m{\n",
      "      \u001b[0m\u001b[34;1m\"all_results\"\u001b[0m\u001b[1;39m: \u001b[0m\u001b[0;32m\"155.995:157.626:156.195\"\u001b[0m\u001b[1;39m,\n",
      "      \u001b[0m\u001b[34;1m\"score\"\u001b[0m\u001b[1;39m: \u001b[0m\u001b[0;39m156.605\u001b[0m\u001b[1;39m\n",
      "    \u001b[1;39m}\u001b[0m\u001b[1;39m,\n",
      "    \u001b[0m\u001b[34;1m\"test\"\u001b[0m\u001b[1;39m: \u001b[0m\u001b[0;32m\"pts/c-ray-1.2.0\"\u001b[0m\u001b[1;39m,\n",
      "    \u001b[0m\u001b[34;1m\"units\"\u001b[0m\u001b[1;39m: \u001b[0m\u001b[0;32m\"Seconds\"\u001b[0m\u001b[1;39m\n",
      "  \u001b[1;39m}\u001b[0m\u001b[1;39m,\n",
      "  \u001b[0m\u001b[34;1m\"site\"\u001b[0m\u001b[1;39m: \u001b[0m\u001b[1;39m{\n",
      "    \u001b[0m\u001b[34;1m\"address\"\u001b[0m\u001b[1;39m: \u001b[0m\u001b[0;32m\"unknown\"\u001b[0m\u001b[1;39m,\n",
      "    \u001b[0m\u001b[34;1m\"id\"\u001b[0m\u001b[1;39m: \u001b[0m\u001b[0;32m\"17fb17c9-107c-4571-ab1e-120299878342\"\u001b[0m\u001b[1;39m,\n",
      "    \u001b[0m\u001b[34;1m\"name\"\u001b[0m\u001b[1;39m: \u001b[0m\u001b[0;32m\"CESNET-MCC\"\u001b[0m\u001b[1;39m,\n",
      "    \u001b[0m\u001b[34;1m\"upload_datetime\"\u001b[0m\u001b[1;39m: \u001b[0m\u001b[0;32m\"2022-02-01T07:57:42.821704\"\u001b[0m\u001b[1;39m\n",
      "  \u001b[1;39m}\u001b[0m\u001b[1;39m,\n",
      "  \u001b[0m\u001b[34;1m\"tags\"\u001b[0m\u001b[1;39m: \u001b[0m\u001b[1;39m[\n",
      "    \u001b[1;39m{\n",
      "      \u001b[0m\u001b[34;1m\"description\"\u001b[0m\u001b[1;39m: \u001b[0m\u001b[0;32m\"Result executed in hpc system\"\u001b[0m\u001b[1;39m,\n",
      "      \u001b[0m\u001b[34;1m\"id\"\u001b[0m\u001b[1;39m: \u001b[0m\u001b[0;32m\"92f7443d-1991-4bee-8b58-a4189c586a08\"\u001b[0m\u001b[1;39m,\n",
      "      \u001b[0m\u001b[34;1m\"name\"\u001b[0m\u001b[1;39m: \u001b[0m\u001b[0;32m\"hpc\"\u001b[0m\u001b[1;39m\n",
      "    \u001b[1;39m}\u001b[0m\u001b[1;39m\n",
      "  \u001b[1;39m]\u001b[0m\u001b[1;39m,\n",
      "  \u001b[0m\u001b[34;1m\"upload_datetime\"\u001b[0m\u001b[1;39m: \u001b[0m\u001b[0;32m\"2022-02-23T14:32:02.859960\"\u001b[0m\u001b[1;39m\n",
      "\u001b[1;39m}\u001b[0m\n"
     ]
    }
   ],
   "source": [
    "query=\"execution_datetime=$execution_datetime&benchmark_id=$benchmark_id&flavor_id=$flavor_id&tags_ids=$tag1_id\"\n",
    "curl -X 'POST' \"$eosc_perf_api/results?$query\" \\\n",
    "  -H 'accept: application/json' \\\n",
    "  -H \"Authorization: Bearer $access_token\" \\\n",
    "  -H 'Content-Type: application/json' \\\n",
    "  -d \"$result_json\" | jq"
   ]
  }
 ],
 "metadata": {
  "kernelspec": {
   "display_name": "Bash",
   "language": "bash",
   "name": "bash"
  },
  "language_info": {
   "codemirror_mode": "shell",
   "file_extension": ".sh",
   "mimetype": "text/x-sh",
   "name": "bash"
  },
  "toc-autonumbering": false,
  "toc-showcode": false
 },
 "nbformat": 4,
 "nbformat_minor": 5
}
