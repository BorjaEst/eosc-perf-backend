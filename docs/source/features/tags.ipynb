{
 "cells": [
  {
   "cell_type": "markdown",
   "id": "79aad730",
   "metadata": {},
   "source": [
    "# Using /tags\n",
    "In this example we are going to explore deeply the options available when collecting and uploading tags to EOSC Performance."
   ]
  },
  {
   "cell_type": "markdown",
   "id": "486acef9-dd24-4a48-99d5-6e53e60a6f7c",
   "metadata": {},
   "source": [
    "### Create the environment\n",
    "To do so, we select an API endpoint and collect a token from our configuration. <br>\n",
    "We also need an access token, in this example we use [oidc-agent](https://github.com/indigo-dc/oidc-agent#:~:text=oidc%2Dagent%20is%20a%20set,session%20or%20a%20login%20session.) to get one. <br>"
   ]
  },
  {
   "cell_type": "code",
   "execution_count": 1,
   "id": "df6fbc94-aff2-4de3-a4fa-8ceaa9f54e02",
   "metadata": {},
   "outputs": [],
   "source": [
    "eosc_perf_api=\"https://performance.services.fedcloud.eu/api/v1/\"\n",
    "access_token=$(oidc-token egi-prod)"
   ]
  },
  {
   "cell_type": "markdown",
   "id": "7911381a-c922-45c4-b8e0-f7c1e2e7e99c",
   "metadata": {},
   "source": [
    "### (Conditional) Register, if not done already\n",
    "To use our service as user, first we need to accept the terms of usage and register. <br>\n",
    "Make sure to read the [terms and conditions](https://performance.services.fedcloud.eu/privacy_policy)."
   ]
  },
  {
   "cell_type": "code",
   "execution_count": null,
   "id": "9390c151-9268-4aa2-ab8b-1b55ff966380",
   "metadata": {},
   "outputs": [],
   "source": [
    "curl -X 'POST' \\\n",
    "  \"$eosc_perf_api/users:register\" \\\n",
    "  -H \"Authorization: Bearer $access_token\""
   ]
  },
  {
   "cell_type": "markdown",
   "id": "8587d96a-780c-4010-a72a-fac691d60e09",
   "metadata": {},
   "source": [
    "### Upload your tag\n",
    "To upload the tag, you only need to use an authenticated POST request to ``/tags`` and attach the following content to the body:\n",
    "\n",
    "- **name**: Name of the tag to display to the community.\n",
    "- **description(Optional)**: Short description about the tag for the community."
   ]
  },
  {
   "cell_type": "code",
   "execution_count": 3,
   "id": "1b2301a2-b2e0-4150-90f6-5405f2714dd3",
   "metadata": {},
   "outputs": [
    {
     "name": "stdout",
     "output_type": "stream",
     "text": [
      "  % Total    % Received % Xferd  Average Speed   Time    Time     Time  Current\n",
      "                                 Dload  Upload   Total   Spent    Left  Speed\n",
      "100   188  100   115  100    73    148     94 --:--:-- --:--:-- --:--:--   243\n",
      "\u001b[1;39m{\n",
      "  \u001b[0m\u001b[34;1m\"description\"\u001b[0m\u001b[1;39m: \u001b[0m\u001b[0;32m\"A free description for the community\"\u001b[0m\u001b[1;39m,\n",
      "  \u001b[0m\u001b[34;1m\"id\"\u001b[0m\u001b[1;39m: \u001b[0m\u001b[0;32m\"6186498a-929b-4745-9ac7-fc1d8b75b398\"\u001b[0m\u001b[1;39m,\n",
      "  \u001b[0m\u001b[34;1m\"name\"\u001b[0m\u001b[1;39m: \u001b[0m\u001b[0;32m\"my_tag\"\u001b[0m\u001b[1;39m\n",
      "\u001b[1;39m}\u001b[0m\n"
     ]
    }
   ],
   "source": [
    "name=\"my_tag\"\n",
    "description=\"A free description for the community\"\n",
    "curl -X 'POST' \"$eosc_perf_api/tags\" \\\n",
    "  -H 'accept: application/json' \\\n",
    "  -H \"Authorization: Bearer $access_token\" \\\n",
    "  -H 'Content-Type: application/json' \\\n",
    "  -d \"{\\\"name\\\": \\\"$name\\\", \\\"description\\\": \\\"$description\\\"}\" | jq"
   ]
  },
  {
   "cell_type": "markdown",
   "id": "1e29fb18",
   "metadata": {},
   "source": [
    "### Download your tag\n",
    "You can check your tag is available by downloading the tag.\n",
    "\n",
    "<div class=\"alert alert-info\">\n",
    "Note the upload of tags needs to be validated by administrators. Therefore it will only be available to the community after the review is completed.\n",
    "</div>"
   ]
  },
  {
   "cell_type": "code",
   "execution_count": 4,
   "id": "10dc39f9",
   "metadata": {},
   "outputs": [
    {
     "name": "stdout",
     "output_type": "stream",
     "text": [
      "  % Total    % Received % Xferd  Average Speed   Time    Time     Time  Current\n",
      "                                 Dload  Upload   Total   Spent    Left  Speed\n",
      "100   205  100   205    0     0  14642      0 --:--:-- --:--:-- --:--:-- 14642\n",
      "\u001b[0;32m\"6186498a-929b-4745-9ac7-fc1d8b75b398\"\u001b[0m\n"
     ]
    }
   ],
   "source": [
    "tags=$(curl -X 'GET' \"$eosc_perf_api/tags?name=$name\")\n",
    "echo $tags | jq '.items[0].id'"
   ]
  },
  {
   "cell_type": "markdown",
   "id": "4d2eea82",
   "metadata": {},
   "source": [
    "### Update results with your tags\n",
    "You can use a PUT request at ``/results/{id}/tags`` to update your result tags. For example when a user has created an interesting tag that you think it might relate some of your results.<br>\n",
    "You can use a GET request at ``/users/self/results`` to collect the list of results uploaded by your user. Note that you need to include your access token to use this request."
   ]
  },
  {
   "cell_type": "code",
   "execution_count": 5,
   "id": "d9c288bc",
   "metadata": {},
   "outputs": [
    {
     "name": "stdout",
     "output_type": "stream",
     "text": [
      "  % Total    % Received % Xferd  Average Speed   Time    Time     Time  Current\n",
      "                                 Dload  Upload   Total   Spent    Left  Speed\n",
      "100  2081  100  2081    0     0   2627      0 --:--:-- --:--:-- --:--:--  2624\n",
      "\u001b[0;32m\"76c5773a-52d7-408b-961b-e6d3ad06c640\"\u001b[0m\n"
     ]
    }
   ],
   "source": [
    "results=$(curl -X 'GET' \"$eosc_perf_api/users/self/results\" \\\n",
    "  -H 'accept: application/json' \\\n",
    "  -H \"Authorization: Bearer $access_token\" \\\n",
    "  -H 'Content-Type: application/json')\n",
    "echo $results | jq '.items[].id'"
   ]
  },
  {
   "cell_type": "code",
   "execution_count": 6,
   "id": "a550fa22",
   "metadata": {},
   "outputs": [
    {
     "name": "stdout",
     "output_type": "stream",
     "text": [
      "  % Total    % Received % Xferd  Average Speed   Time    Time     Time  Current\n",
      "                                 Dload  Upload   Total   Spent    Left  Speed\n",
      "100    54    0     0  100    54      0     32  0:00:01  0:00:01 --:--:--    32\n"
     ]
    }
   ],
   "source": [
    "result_id=$(echo $results | jq -r '.items[0].id')\n",
    "tag_id=$(echo $tags | jq -r '.items[0].id')\n",
    "curl -X 'PUT' \"$eosc_perf_api/results/$result_id/tags\" \\\n",
    "  -H 'accept: application/json' \\\n",
    "  -H \"Authorization: Bearer $access_token\" \\\n",
    "  -H 'Content-Type: application/json' \\\n",
    "  -d \"{\\\"tags_ids\\\": [\\\"$tag_id\\\"]}\" | jq"
   ]
  },
  {
   "cell_type": "markdown",
   "id": "563d7a1f",
   "metadata": {},
   "source": [
    "<div class=\"alert alert-info\">\n",
    "You can only update tags on your uploaded results. However you can use all the community.\n",
    "</div>"
   ]
  },
  {
   "cell_type": "markdown",
   "id": "77ebd226",
   "metadata": {},
   "source": [
    "### Download results with your tags\n",
    "With this functionality, users can easily find relevant results by just attaching the tags they are interested in into the ``/results`` query."
   ]
  },
  {
   "cell_type": "code",
   "execution_count": 7,
   "id": "33857e7a",
   "metadata": {},
   "outputs": [
    {
     "name": "stdout",
     "output_type": "stream",
     "text": [
      "  % Total    % Received % Xferd  Average Speed   Time    Time     Time  Current\n",
      "                                 Dload  Upload   Total   Spent    Left  Speed\n",
      "100  2195  100  2195    0     0   178k      0 --:--:-- --:--:-- --:--:--  178k\n",
      "\u001b[0;32m\"76c5773a-52d7-408b-961b-e6d3ad06c640\"\u001b[0m\n"
     ]
    }
   ],
   "source": [
    "curl -X 'GET' \"$eosc_perf_api/results?tags_ids=$tag_id\" \\\n",
    "  -H 'accept: application/json' | jq '.items[].id'"
   ]
  }
 ],
 "metadata": {
  "kernelspec": {
   "display_name": "Bash",
   "language": "bash",
   "name": "bash"
  },
  "language_info": {
   "codemirror_mode": "shell",
   "file_extension": ".sh",
   "mimetype": "text/x-sh",
   "name": "bash"
  },
  "toc-autonumbering": false,
  "toc-showcode": false
 },
 "nbformat": 4,
 "nbformat_minor": 5
}
