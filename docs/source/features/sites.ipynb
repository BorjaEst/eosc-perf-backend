{
 "cells": [
  {
   "cell_type": "markdown",
   "id": "79aad730",
   "metadata": {},
   "source": [
    "# Using /sites\n",
    "In this example we are going to explore deeply the options available when collecting and uploading sites from EOSC Performance."
   ]
  },
  {
   "cell_type": "markdown",
   "id": "486acef9-dd24-4a48-99d5-6e53e60a6f7c",
   "metadata": {},
   "source": [
    "### Create the environment\n",
    "To do so, we select an API endpoint and collect a token from our configuration. <br>\n",
    "We also need an access token, in this example we use [oidc-agent](https://github.com/indigo-dc/oidc-agent#:~:text=oidc%2Dagent%20is%20a%20set,session%20or%20a%20login%20session.) to get one. <br>"
   ]
  },
  {
   "cell_type": "code",
   "execution_count": 1,
   "id": "df6fbc94-aff2-4de3-a4fa-8ceaa9f54e02",
   "metadata": {},
   "outputs": [],
   "source": [
    "eosc_perf_api=\"https://performance.services.fedcloud.eu/api/v1/\"\n",
    "access_token=$(oidc-token egi-prod)"
   ]
  },
  {
   "cell_type": "markdown",
   "id": "7911381a-c922-45c4-b8e0-f7c1e2e7e99c",
   "metadata": {},
   "source": [
    "### (Conditional) Register, if not done already\n",
    "To use our service as user, first we need to accept the terms of usage and register. <br>\n",
    "Make sure to read the [terms and conditions](https://performance.services.fedcloud.eu/privacy_policy)."
   ]
  },
  {
   "cell_type": "code",
   "execution_count": null,
   "id": "9390c151-9268-4aa2-ab8b-1b55ff966380",
   "metadata": {},
   "outputs": [],
   "source": [
    "curl -X 'POST' \\\n",
    "  \"$eosc_perf_api/users:register\" \\\n",
    "  -H \"Authorization: Bearer $access_token\""
   ]
  },
  {
   "cell_type": "markdown",
   "id": "8587d96a-780c-4010-a72a-fac691d60e09",
   "metadata": {},
   "source": [
    "### Upload your site\n",
    "To upload the site, you only need to use an authenticated POST request to ``/sites`` and attach the following content to the body:\n",
    "\n",
    "- **name**: Name of the site to display to the community.\n",
    "- **address**: Address of the site to display to the community (it might be virtual or physical).\n",
    "- **description(Optional)**: Short description about the site for the community."
   ]
  },
  {
   "cell_type": "code",
   "execution_count": 3,
   "id": "1b2301a2-b2e0-4150-90f6-5405f2714dd3",
   "metadata": {},
   "outputs": [
    {
     "name": "stdout",
     "output_type": "stream",
     "text": [
      "  % Total    % Received % Xferd  Average Speed   Time    Time     Time  Current\n",
      "                                 Dload  Upload   Total   Spent    Left  Speed\n",
      "100   300  100   190  100   110    230    133 --:--:-- --:--:-- --:--:--   364\n",
      "\u001b[1;39m{\n",
      "  \u001b[0m\u001b[34;1m\"address\"\u001b[0m\u001b[1;39m: \u001b[0m\u001b[0;32m\"my_address.com\"\u001b[0m\u001b[1;39m,\n",
      "  \u001b[0m\u001b[34;1m\"description\"\u001b[0m\u001b[1;39m: \u001b[0m\u001b[0;32m\"A free description for the community\"\u001b[0m\u001b[1;39m,\n",
      "  \u001b[0m\u001b[34;1m\"id\"\u001b[0m\u001b[1;39m: \u001b[0m\u001b[0;32m\"d9a42645-5cd4-403b-866c-793cc00e1665\"\u001b[0m\u001b[1;39m,\n",
      "  \u001b[0m\u001b[34;1m\"name\"\u001b[0m\u001b[1;39m: \u001b[0m\u001b[0;32m\"my_site\"\u001b[0m\u001b[1;39m,\n",
      "  \u001b[0m\u001b[34;1m\"upload_datetime\"\u001b[0m\u001b[1;39m: \u001b[0m\u001b[0;32m\"2022-02-24T13:32:25.830999\"\u001b[0m\u001b[1;39m\n",
      "\u001b[1;39m}\u001b[0m\n"
     ]
    }
   ],
   "source": [
    "name=\"my_site\"\n",
    "address=\"my_address.com\"\n",
    "curl -X 'POST' \"$eosc_perf_api/sites\" \\\n",
    "  -H 'accept: application/json' \\\n",
    "  -H \"Authorization: Bearer $access_token\" \\\n",
    "  -H 'Content-Type: application/json' \\\n",
    "  -d \"{\\\"name\\\": \\\"$name\\\", \\\"address\\\": \\\"$address\\\", \\\n",
    "       \\\"description\\\": \\\"A free description for the community\\\"}\" | jq"
   ]
  },
  {
   "cell_type": "markdown",
   "id": "1e29fb18",
   "metadata": {},
   "source": [
    "### Download your site\n",
    "You can check your site is available by downloading the site.\n",
    "\n",
    "<div class=\"alert alert-info\">\n",
    "Note the upload of sites needs to be validated by administrators. Therefore it will only be available to the community after the review is completed.\n",
    "</div>"
   ]
  },
  {
   "cell_type": "code",
   "execution_count": 4,
   "id": "10dc39f9",
   "metadata": {},
   "outputs": [
    {
     "name": "stdout",
     "output_type": "stream",
     "text": [
      "  % Total    % Received % Xferd  Average Speed   Time    Time     Time  Current\n",
      "                                 Dload  Upload   Total   Spent    Left  Speed\n",
      "100   280  100   280    0     0  12727      0 --:--:-- --:--:-- --:--:-- 12727\n",
      "\u001b[0;32m\"d9a42645-5cd4-403b-866c-793cc00e1665\"\u001b[0m\n"
     ]
    }
   ],
   "source": [
    "sites=$(curl -X 'GET' \"$eosc_perf_api/sites?name=$name\")\n",
    "echo $sites | jq '.items[0].id'"
   ]
  },
  {
   "cell_type": "markdown",
   "id": "4f63574a",
   "metadata": {},
   "source": [
    "### Upload your site flavors\n",
    "Additionally to the site main attributes, you can also upload deployment flavors to a specific site.\n",
    "To upload a flavor, you only need to use an authenticated POST request to ``/sites/{id}/flavors`` and attach the following content to the body:\n",
    "\n",
    "- **name**: Name of the flavor to display to the community.\n",
    "- **description(Optional)**: Short description about the flavor for the community."
   ]
  },
  {
   "cell_type": "code",
   "execution_count": 5,
   "id": "c9844f23",
   "metadata": {},
   "outputs": [
    {
     "name": "stdout",
     "output_type": "stream",
     "text": [
      "  % Total    % Received % Xferd  Average Speed   Time    Time     Time  Current\n",
      "                                 Dload  Upload   Total   Spent    Left  Speed\n",
      "100   246  100   164  100    82    206    103 --:--:-- --:--:-- --:--:--   309\n",
      "\u001b[1;39m{\n",
      "  \u001b[0m\u001b[34;1m\"description\"\u001b[0m\u001b[1;39m: \u001b[0m\u001b[0;32m\"A free description for the community\"\u001b[0m\u001b[1;39m,\n",
      "  \u001b[0m\u001b[34;1m\"id\"\u001b[0m\u001b[1;39m: \u001b[0m\u001b[0;32m\"efbd2510-8b45-4113-b691-9a6dae7dd5cf\"\u001b[0m\u001b[1;39m,\n",
      "  \u001b[0m\u001b[34;1m\"name\"\u001b[0m\u001b[1;39m: \u001b[0m\u001b[0;32m\"flavor_1\"\u001b[0m\u001b[1;39m,\n",
      "  \u001b[0m\u001b[34;1m\"upload_datetime\"\u001b[0m\u001b[1;39m: \u001b[0m\u001b[0;32m\"2022-02-24T13:34:11.627946\"\u001b[0m\u001b[1;39m\n",
      "\u001b[1;39m}\u001b[0m\n"
     ]
    }
   ],
   "source": [
    "site_id=$(echo $sites | jq -r '.items[0].id')\n",
    "name=\"flavor_1\"\n",
    "curl -X 'POST' \"$eosc_perf_api/sites/$site_id/flavors\" \\\n",
    "  -H 'accept: application/json' \\\n",
    "  -H \"Authorization: Bearer $access_token\" \\\n",
    "  -H 'Content-Type: application/json' \\\n",
    "  -d \"{\\\"name\\\": \\\"$name\\\", \\\n",
    "       \\\"description\\\": \\\"A free description for the community\\\"}\" | jq"
   ]
  },
  {
   "cell_type": "markdown",
   "id": "7829edf2",
   "metadata": {},
   "source": [
    "### Download your site flavor\n",
    "You can check your site flavor is available by downloading the site flavors.\n",
    "\n",
    "<div class=\"alert alert-info\">\n",
    "Note the upload of flavors needs to be validated by administrators. Therefore it will only be available to the community after the review is completed.\n",
    "</div>"
   ]
  },
  {
   "cell_type": "code",
   "execution_count": 6,
   "id": "8abe49f7",
   "metadata": {},
   "outputs": [
    {
     "name": "stdout",
     "output_type": "stream",
     "text": [
      "  % Total    % Received % Xferd  Average Speed   Time    Time     Time  Current\n",
      "                                 Dload  Upload   Total   Spent    Left  Speed\n",
      "100   254  100   254    0     0   4618      0 --:--:-- --:--:-- --:--:--  4618\n",
      "\u001b[0;32m\"efbd2510-8b45-4113-b691-9a6dae7dd5cf\"\u001b[0m\n"
     ]
    }
   ],
   "source": [
    "flavors=$(curl -X 'GET' \"$eosc_perf_api/sites/$site_id/flavors?name=$name\")\n",
    "echo $flavors | jq '.items[0].id'"
   ]
  }
 ],
 "metadata": {
  "kernelspec": {
   "display_name": "Bash",
   "language": "bash",
   "name": "bash"
  },
  "language_info": {
   "codemirror_mode": "shell",
   "file_extension": ".sh",
   "mimetype": "text/x-sh",
   "name": "bash"
  },
  "toc-autonumbering": false,
  "toc-showcode": false
 },
 "nbformat": 4,
 "nbformat_minor": 5
}
