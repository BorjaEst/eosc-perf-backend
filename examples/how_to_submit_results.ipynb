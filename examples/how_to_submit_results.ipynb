{
 "cells": [
  {
   "cell_type": "markdown",
   "id": "486acef9-dd24-4a48-99d5-6e53e60a6f7c",
   "metadata": {},
   "source": [
    "### Create the environment\n",
    "To do so, we select an API endpoint and collect a token from our configuration. <br>\n",
    "We also need an access token, in this example we use [oidc-agent](https://github.com/indigo-dc/oidc-agent#:~:text=oidc%2Dagent%20is%20a%20set,session%20or%20a%20login%20session.) to get one. <br>"
   ]
  },
  {
   "cell_type": "code",
   "execution_count": 1,
   "id": "df6fbc94-aff2-4de3-a4fa-8ceaa9f54e02",
   "metadata": {},
   "outputs": [],
   "source": [
    "eosc_perf_api=\"https://perf-stage.test.fedcloud.eu/api/v1\"\n",
    "access_token=$(oidc-token egi-demo)"
   ]
  },
  {
   "cell_type": "markdown",
   "id": "7911381a-c922-45c4-b8e0-f7c1e2e7e99c",
   "metadata": {},
   "source": [
    "### (Conditional) Register, if not done already\n",
    "To use our service as user, first we need to accept the terms of usage and register. <br>\n",
    "Make sure to read the [terms and conditions](https://performance.services.fedcloud.eu/privacy_policy)."
   ]
  },
  {
   "cell_type": "code",
   "execution_count": 2,
   "id": "9390c151-9268-4aa2-ab8b-1b55ff966380",
   "metadata": {},
   "outputs": [],
   "source": [
    "curl -X 'POST' \\\n",
    "  \"$eosc_perf_api/users:register\" \\\n",
    "  -H \"Authorization: Bearer $access_token\""
   ]
  },
  {
   "cell_type": "markdown",
   "id": "e039aa26-bb57-4880-9968-ae9ba53772b3",
   "metadata": {},
   "source": [
    "### Search for the benchmark id that produced our result\n",
    "You can get a list of all available benchmarks using GET /benchmarks\n",
    "> Benchmarks are public to the Internet, access token is not needed"
   ]
  },
  {
   "cell_type": "code",
   "execution_count": 3,
   "id": "fa437e41-ad87-4aa4-b213-3f167c3db697",
   "metadata": {},
   "outputs": [
    {
     "name": "stdout",
     "output_type": "stream",
     "text": [
      "  % Total    % Received % Xferd  Average Speed   Time    Time     Time  Current\n",
      "                                 Dload  Upload   Total   Spent    Left  Speed\n",
      "100   943  100   943    0     0   8980      0 --:--:-- --:--:-- --:--:--  8980\n",
      "\u001b[1;39m{\n",
      "  \u001b[0m\u001b[34;1m\"description\"\u001b[0m\u001b[1;39m: \u001b[0m\u001b[0;32m\"A free description for the community\"\u001b[0m\u001b[1;39m,\n",
      "  \u001b[0m\u001b[34;1m\"docker_image\"\u001b[0m\u001b[1;39m: \u001b[0m\u001b[0;32m\"deephdc/deep-oc-benchmarks_cnn\"\u001b[0m\u001b[1;39m,\n",
      "  \u001b[0m\u001b[34;1m\"docker_tag\"\u001b[0m\u001b[1;39m: \u001b[0m\u001b[0;32m\"gpu\"\u001b[0m\u001b[1;39m,\n",
      "  \u001b[0m\u001b[34;1m\"id\"\u001b[0m\u001b[1;39m: \u001b[0m\u001b[0;32m\"84b21e6d-9efe-44ed-b59c-c487a626cc33\"\u001b[0m\u001b[1;39m,\n",
      "  \u001b[0m\u001b[34;1m\"json_schema\"\u001b[0m\u001b[1;39m: \u001b[0m\u001b[0;32m\"...\"\u001b[0m\u001b[1;39m,\n",
      "  \u001b[0m\u001b[34;1m\"upload_datetime\"\u001b[0m\u001b[1;39m: \u001b[0m\u001b[0;32m\"2022-09-16T09:48:37.361474\"\u001b[0m\u001b[1;39m\n",
      "\u001b[1;39m}\u001b[0m\n"
     ]
    }
   ],
   "source": [
    "benchmarks=$(curl -X 'GET' \"$eosc_perf_api/benchmarks?docker_image=deephdc/deep-oc-benchmarks_cnn&docker_tag=gpu\")\n",
    "benchmark=$(echo $benchmarks | jq '.items[0]')\n",
    "echo $benchmark | jq '.json_schema = \"...\"'"
   ]
  },
  {
   "cell_type": "markdown",
   "id": "b44d62bc-e960-4c42-b8ad-db15b1d0ab91",
   "metadata": {},
   "source": [
    "### Search for the flavor id used to run our benchmark\n",
    "First you need to find the site where the benchmark was run. <br>\n",
    "Once the site id is collected, it is possible to access and select the site flavors. <br>\n",
    "> In this example we will use ':search' endpoint to find the flavor"
   ]
  },
  {
   "cell_type": "code",
   "execution_count": 4,
   "id": "8326e84e-d386-4cbd-a143-3a0beeb8a3e2",
   "metadata": {},
   "outputs": [
    {
     "name": "stdout",
     "output_type": "stream",
     "text": [
      "  % Total    % Received % Xferd  Average Speed   Time    Time     Time  Current\n",
      "                                 Dload  Upload   Total   Spent    Left  Speed\n",
      "100   378  100   378    0     0   3532      0 --:--:-- --:--:-- --:--:--  3532\n",
      "\u001b[1;39m{\n",
      "  \u001b[0m\u001b[34;1m\"address\"\u001b[0m\u001b[1;39m: \u001b[0m\u001b[0;32m\"https://wiki.scc.kit.edu/hpc/index.php?title=Category:ForHLR\"\u001b[0m\u001b[1;39m,\n",
      "  \u001b[0m\u001b[34;1m\"description\"\u001b[0m\u001b[1;39m: \u001b[0m\u001b[0;32m\"Baden-Württemberg's general purpose tier 2 high performance computing (HPC) cluster\"\u001b[0m\u001b[1;39m,\n",
      "  \u001b[0m\u001b[34;1m\"id\"\u001b[0m\u001b[1;39m: \u001b[0m\u001b[0;32m\"27ee87ff-a9aa-4486-891a-aff8164a9cab\"\u001b[0m\u001b[1;39m,\n",
      "  \u001b[0m\u001b[34;1m\"name\"\u001b[0m\u001b[1;39m: \u001b[0m\u001b[0;32m\"ForHLR2\"\u001b[0m\u001b[1;39m,\n",
      "  \u001b[0m\u001b[34;1m\"upload_datetime\"\u001b[0m\u001b[1;39m: \u001b[0m\u001b[0;32m\"2021-10-13T15:11:17.437972\"\u001b[0m\u001b[1;39m\n",
      "\u001b[1;39m}\u001b[0m\n"
     ]
    }
   ],
   "source": [
    "sites=$(curl -X 'GET' \"$eosc_perf_api/sites?name=ForHLR2\")\n",
    "site=$(echo $sites | jq '.items[0]')\n",
    "echo $site | jq"
   ]
  },
  {
   "cell_type": "code",
   "execution_count": 5,
   "id": "0dade40a-bd7d-4ec4-9bb0-370b9b092f25",
   "metadata": {},
   "outputs": [
    {
     "name": "stdout",
     "output_type": "stream",
     "text": [
      "  % Total    % Received % Xferd  Average Speed   Time    Time     Time  Current\n",
      "                                 Dload  Upload   Total   Spent    Left  Speed\n",
      "100   239  100   239    0     0   2212      0 --:--:-- --:--:-- --:--:--  2212\n",
      "\u001b[1;39m{\n",
      "  \u001b[0m\u001b[34;1m\"description\"\u001b[0m\u001b[1;39m: \u001b[0m\u001b[0;32m\"8x NVIDIA A100-40\"\u001b[0m\u001b[1;39m,\n",
      "  \u001b[0m\u001b[34;1m\"id\"\u001b[0m\u001b[1;39m: \u001b[0m\u001b[0;32m\"b91268ca-9c97-4b56-85d4-b83f17123322\"\u001b[0m\u001b[1;39m,\n",
      "  \u001b[0m\u001b[34;1m\"name\"\u001b[0m\u001b[1;39m: \u001b[0m\u001b[0;32m\"haicore-gpu8\"\u001b[0m\u001b[1;39m,\n",
      "  \u001b[0m\u001b[34;1m\"upload_datetime\"\u001b[0m\u001b[1;39m: \u001b[0m\u001b[0;32m\"2021-10-13T15:35:04.713245\"\u001b[0m\u001b[1;39m\n",
      "\u001b[1;39m}\u001b[0m\n"
     ]
    }
   ],
   "source": [
    "site_id=$(echo $site | jq -r '.id')\n",
    "flavors=$(curl -X 'GET' \"$eosc_perf_api/sites/$site_id/flavors:search?terms=haicore-gpu8\")\n",
    "flavor=$(echo $flavors | jq '.items[0]')\n",
    "echo $flavor | jq"
   ]
  },
  {
   "cell_type": "markdown",
   "id": "8976ea30-f40d-4b29-accb-97dc824f452b",
   "metadata": {},
   "source": [
    "### Search for the tags to relate your result\n",
    "Collect the tags you want to link to your result so users can find it easily. <br>\n",
    "> If you do not know the name of the tag you can use :search as generic filter."
   ]
  },
  {
   "cell_type": "code",
   "execution_count": 6,
   "id": "f7ea3d49-7147-4bca-bb33-e4196be0185b",
   "metadata": {},
   "outputs": [
    {
     "name": "stdout",
     "output_type": "stream",
     "text": [
      "  % Total    % Received % Xferd  Average Speed   Time    Time     Time  Current\n",
      "                                 Dload  Upload   Total   Spent    Left  Speed\n",
      "100   166  100   166    0     0   1693      0 --:--:-- --:--:-- --:--:--  1693\n",
      "\u001b[1;39m{\n",
      "  \u001b[0m\u001b[34;1m\"description\"\u001b[0m\u001b[1;39m: \u001b[0m\u001b[0;32m\"\"\u001b[0m\u001b[1;39m,\n",
      "  \u001b[0m\u001b[34;1m\"id\"\u001b[0m\u001b[1;39m: \u001b[0m\u001b[0;32m\"f52d83ba-daa7-4d5c-899e-ae5d5c2487ad\"\u001b[0m\u001b[1;39m,\n",
      "  \u001b[0m\u001b[34;1m\"name\"\u001b[0m\u001b[1;39m: \u001b[0m\u001b[0;32m\"gpu\"\u001b[0m\u001b[1;39m\n",
      "\u001b[1;39m}\u001b[0m\n"
     ]
    }
   ],
   "source": [
    "tag_gpu=$(curl -X 'GET' \"$eosc_perf_api/tags?name=gpu\" | jq '.items[0]')\n",
    "echo $tag_gpu | jq"
   ]
  },
  {
   "cell_type": "markdown",
   "id": "8587d96a-780c-4010-a72a-fac691d60e09",
   "metadata": {},
   "source": [
    "### Upload your result\n",
    "Use an execution datetime and the collected site_id and flavor_id to upload a result. <br>"
   ]
  },
  {
   "cell_type": "code",
   "execution_count": 7,
   "id": "a660c97f-5c3d-4423-89ae-420d8bfc1805",
   "metadata": {},
   "outputs": [],
   "source": [
    "execution_datetime=\"2021-09-08T20:37:10.192459Z\"\n",
    "benchmark_id=$(echo $benchmark | jq -r '.id')\n",
    "flavor_id=$(echo $flavor | jq -r '.id')\n",
    "tag_gpu_id=$(echo $tag_gpu | jq -r '.id')\n",
    "result_json='{\"start_datetime\": \"2021-09-08T20:37:10.192459Z\", \"end_datetime\": \"2021-09-08T20:39:21.652488Z\", \"machine\": {\"cpus\": 8, \"ram\": 32000}}'"
   ]
  },
  {
   "cell_type": "code",
   "execution_count": 8,
   "id": "1b2301a2-b2e0-4150-90f6-5405f2714dd3",
   "metadata": {},
   "outputs": [
    {
     "name": "stdout",
     "output_type": "stream",
     "text": [
      "  % Total    % Received % Xferd  Average Speed   Time    Time     Time  Current\n",
      "                                 Dload  Upload   Total   Spent    Left  Speed\n",
      "100  1814  100  1680  100   134  11200    893 --:--:-- --:--:-- --:--:-- 12093\n",
      "\u001b[1;39m{\n",
      "  \u001b[0m\u001b[34;1m\"benchmark\"\u001b[0m\u001b[1;39m: \u001b[0m\u001b[1;39m{\n",
      "    \u001b[0m\u001b[34;1m\"description\"\u001b[0m\u001b[1;39m: \u001b[0m\u001b[0;32m\"A free description for the community\"\u001b[0m\u001b[1;39m,\n",
      "    \u001b[0m\u001b[34;1m\"docker_image\"\u001b[0m\u001b[1;39m: \u001b[0m\u001b[0;32m\"deephdc/deep-oc-benchmarks_cnn\"\u001b[0m\u001b[1;39m,\n",
      "    \u001b[0m\u001b[34;1m\"docker_tag\"\u001b[0m\u001b[1;39m: \u001b[0m\u001b[0;32m\"gpu\"\u001b[0m\u001b[1;39m,\n",
      "    \u001b[0m\u001b[34;1m\"id\"\u001b[0m\u001b[1;39m: \u001b[0m\u001b[0;32m\"84b21e6d-9efe-44ed-b59c-c487a626cc33\"\u001b[0m\u001b[1;39m,\n",
      "    \u001b[0m\u001b[34;1m\"json_schema\"\u001b[0m\u001b[1;39m: \u001b[0m\u001b[1;39m{\n",
      "      \u001b[0m\u001b[34;1m\"$id\"\u001b[0m\u001b[1;39m: \u001b[0m\u001b[0;32m\"https://example.com/benchmark.schema.json\"\u001b[0m\u001b[1;39m,\n",
      "      \u001b[0m\u001b[34;1m\"$schema\"\u001b[0m\u001b[1;39m: \u001b[0m\u001b[0;32m\"https://json-schema.org/draft/2019-09/schema\"\u001b[0m\u001b[1;39m,\n",
      "      \u001b[0m\u001b[34;1m\"properties\"\u001b[0m\u001b[1;39m: \u001b[0m\u001b[1;39m{\n",
      "        \u001b[0m\u001b[34;1m\"end_datetime\"\u001b[0m\u001b[1;39m: \u001b[0m\u001b[1;39m{\n",
      "          \u001b[0m\u001b[34;1m\"description\"\u001b[0m\u001b[1;39m: \u001b[0m\u001b[0;32m\"The benchmark end datetime.\"\u001b[0m\u001b[1;39m,\n",
      "          \u001b[0m\u001b[34;1m\"format\"\u001b[0m\u001b[1;39m: \u001b[0m\u001b[0;32m\"date-time\"\u001b[0m\u001b[1;39m,\n",
      "          \u001b[0m\u001b[34;1m\"type\"\u001b[0m\u001b[1;39m: \u001b[0m\u001b[0;32m\"string\"\u001b[0m\u001b[1;39m\n",
      "        \u001b[1;39m}\u001b[0m\u001b[1;39m,\n",
      "        \u001b[0m\u001b[34;1m\"machine\"\u001b[0m\u001b[1;39m: \u001b[0m\u001b[1;39m{\n",
      "          \u001b[0m\u001b[34;1m\"description\"\u001b[0m\u001b[1;39m: \u001b[0m\u001b[0;32m\"Execution machine details.\"\u001b[0m\u001b[1;39m,\n",
      "          \u001b[0m\u001b[34;1m\"properties\"\u001b[0m\u001b[1;39m: \u001b[0m\u001b[1;39m{\n",
      "            \u001b[0m\u001b[34;1m\"cpus\"\u001b[0m\u001b[1;39m: \u001b[0m\u001b[1;39m{\n",
      "              \u001b[0m\u001b[34;1m\"description\"\u001b[0m\u001b[1;39m: \u001b[0m\u001b[0;32m\"Number of CPU.\"\u001b[0m\u001b[1;39m,\n",
      "              \u001b[0m\u001b[34;1m\"type\"\u001b[0m\u001b[1;39m: \u001b[0m\u001b[0;32m\"integer\"\u001b[0m\u001b[1;39m\n",
      "            \u001b[1;39m}\u001b[0m\u001b[1;39m,\n",
      "            \u001b[0m\u001b[34;1m\"ram\"\u001b[0m\u001b[1;39m: \u001b[0m\u001b[1;39m{\n",
      "              \u001b[0m\u001b[34;1m\"description\"\u001b[0m\u001b[1;39m: \u001b[0m\u001b[0;32m\"Available RAM in MB.\"\u001b[0m\u001b[1;39m,\n",
      "              \u001b[0m\u001b[34;1m\"type\"\u001b[0m\u001b[1;39m: \u001b[0m\u001b[0;32m\"integer\"\u001b[0m\u001b[1;39m\n",
      "            \u001b[1;39m}\u001b[0m\u001b[1;39m\n",
      "          \u001b[1;39m}\u001b[0m\u001b[1;39m,\n",
      "          \u001b[0m\u001b[34;1m\"required\"\u001b[0m\u001b[1;39m: \u001b[0m\u001b[1;39m[\n",
      "            \u001b[0;32m\"cpus\"\u001b[0m\u001b[1;39m,\n",
      "            \u001b[0;32m\"ram\"\u001b[0m\u001b[1;39m\n",
      "          \u001b[1;39m]\u001b[0m\u001b[1;39m,\n",
      "          \u001b[0m\u001b[34;1m\"type\"\u001b[0m\u001b[1;39m: \u001b[0m\u001b[0;32m\"object\"\u001b[0m\u001b[1;39m\n",
      "        \u001b[1;39m}\u001b[0m\u001b[1;39m,\n",
      "        \u001b[0m\u001b[34;1m\"start_datetime\"\u001b[0m\u001b[1;39m: \u001b[0m\u001b[1;39m{\n",
      "          \u001b[0m\u001b[34;1m\"description\"\u001b[0m\u001b[1;39m: \u001b[0m\u001b[0;32m\"The benchmark start datetime.\"\u001b[0m\u001b[1;39m,\n",
      "          \u001b[0m\u001b[34;1m\"format\"\u001b[0m\u001b[1;39m: \u001b[0m\u001b[0;32m\"date-time\"\u001b[0m\u001b[1;39m,\n",
      "          \u001b[0m\u001b[34;1m\"type\"\u001b[0m\u001b[1;39m: \u001b[0m\u001b[0;32m\"string\"\u001b[0m\u001b[1;39m\n",
      "        \u001b[1;39m}\u001b[0m\u001b[1;39m\n",
      "      \u001b[1;39m}\u001b[0m\u001b[1;39m,\n",
      "      \u001b[0m\u001b[34;1m\"required\"\u001b[0m\u001b[1;39m: \u001b[0m\u001b[1;39m[\n",
      "        \u001b[0;32m\"start_datetime\"\u001b[0m\u001b[1;39m,\n",
      "        \u001b[0;32m\"end_datetime\"\u001b[0m\u001b[1;39m,\n",
      "        \u001b[0;32m\"machine\"\u001b[0m\u001b[1;39m\n",
      "      \u001b[1;39m]\u001b[0m\u001b[1;39m,\n",
      "      \u001b[0m\u001b[34;1m\"type\"\u001b[0m\u001b[1;39m: \u001b[0m\u001b[0;32m\"object\"\u001b[0m\u001b[1;39m\n",
      "    \u001b[1;39m}\u001b[0m\u001b[1;39m,\n",
      "    \u001b[0m\u001b[34;1m\"upload_datetime\"\u001b[0m\u001b[1;39m: \u001b[0m\u001b[0;32m\"2022-09-16T09:48:37.361474\"\u001b[0m\u001b[1;39m\n",
      "  \u001b[1;39m}\u001b[0m\u001b[1;39m,\n",
      "  \u001b[0m\u001b[34;1m\"execution_datetime\"\u001b[0m\u001b[1;39m: \u001b[0m\u001b[0;32m\"2021-09-08T20:37:10.192459\"\u001b[0m\u001b[1;39m,\n",
      "  \u001b[0m\u001b[34;1m\"flavor\"\u001b[0m\u001b[1;39m: \u001b[0m\u001b[1;39m{\n",
      "    \u001b[0m\u001b[34;1m\"description\"\u001b[0m\u001b[1;39m: \u001b[0m\u001b[0;32m\"8x NVIDIA A100-40\"\u001b[0m\u001b[1;39m,\n",
      "    \u001b[0m\u001b[34;1m\"id\"\u001b[0m\u001b[1;39m: \u001b[0m\u001b[0;32m\"b91268ca-9c97-4b56-85d4-b83f17123322\"\u001b[0m\u001b[1;39m,\n",
      "    \u001b[0m\u001b[34;1m\"name\"\u001b[0m\u001b[1;39m: \u001b[0m\u001b[0;32m\"haicore-gpu8\"\u001b[0m\u001b[1;39m,\n",
      "    \u001b[0m\u001b[34;1m\"upload_datetime\"\u001b[0m\u001b[1;39m: \u001b[0m\u001b[0;32m\"2021-10-13T15:35:04.713245\"\u001b[0m\u001b[1;39m\n",
      "  \u001b[1;39m}\u001b[0m\u001b[1;39m,\n",
      "  \u001b[0m\u001b[34;1m\"id\"\u001b[0m\u001b[1;39m: \u001b[0m\u001b[0;32m\"f56d8692-126c-40a3-9c43-3cc1372e68fb\"\u001b[0m\u001b[1;39m,\n",
      "  \u001b[0m\u001b[34;1m\"json\"\u001b[0m\u001b[1;39m: \u001b[0m\u001b[1;39m{\n",
      "    \u001b[0m\u001b[34;1m\"end_datetime\"\u001b[0m\u001b[1;39m: \u001b[0m\u001b[0;32m\"2021-09-08T20:39:21.652488Z\"\u001b[0m\u001b[1;39m,\n",
      "    \u001b[0m\u001b[34;1m\"machine\"\u001b[0m\u001b[1;39m: \u001b[0m\u001b[1;39m{\n",
      "      \u001b[0m\u001b[34;1m\"cpus\"\u001b[0m\u001b[1;39m: \u001b[0m\u001b[0;39m8\u001b[0m\u001b[1;39m,\n",
      "      \u001b[0m\u001b[34;1m\"ram\"\u001b[0m\u001b[1;39m: \u001b[0m\u001b[0;39m32000\u001b[0m\u001b[1;39m\n",
      "    \u001b[1;39m}\u001b[0m\u001b[1;39m,\n",
      "    \u001b[0m\u001b[34;1m\"start_datetime\"\u001b[0m\u001b[1;39m: \u001b[0m\u001b[0;32m\"2021-09-08T20:37:10.192459Z\"\u001b[0m\u001b[1;39m\n",
      "  \u001b[1;39m}\u001b[0m\u001b[1;39m,\n",
      "  \u001b[0m\u001b[34;1m\"site\"\u001b[0m\u001b[1;39m: \u001b[0m\u001b[1;39m{\n",
      "    \u001b[0m\u001b[34;1m\"address\"\u001b[0m\u001b[1;39m: \u001b[0m\u001b[0;32m\"https://wiki.scc.kit.edu/hpc/index.php?title=Category:ForHLR\"\u001b[0m\u001b[1;39m,\n",
      "    \u001b[0m\u001b[34;1m\"description\"\u001b[0m\u001b[1;39m: \u001b[0m\u001b[0;32m\"Baden-Württemberg's general purpose tier 2 high performance computing (HPC) cluster\"\u001b[0m\u001b[1;39m,\n",
      "    \u001b[0m\u001b[34;1m\"id\"\u001b[0m\u001b[1;39m: \u001b[0m\u001b[0;32m\"27ee87ff-a9aa-4486-891a-aff8164a9cab\"\u001b[0m\u001b[1;39m,\n",
      "    \u001b[0m\u001b[34;1m\"name\"\u001b[0m\u001b[1;39m: \u001b[0m\u001b[0;32m\"ForHLR2\"\u001b[0m\u001b[1;39m,\n",
      "    \u001b[0m\u001b[34;1m\"upload_datetime\"\u001b[0m\u001b[1;39m: \u001b[0m\u001b[0;32m\"2021-10-13T15:11:17.437972\"\u001b[0m\u001b[1;39m\n",
      "  \u001b[1;39m}\u001b[0m\u001b[1;39m,\n",
      "  \u001b[0m\u001b[34;1m\"tags\"\u001b[0m\u001b[1;39m: \u001b[0m\u001b[1;39m[\n",
      "    \u001b[1;39m{\n",
      "      \u001b[0m\u001b[34;1m\"description\"\u001b[0m\u001b[1;39m: \u001b[0m\u001b[0;32m\"\"\u001b[0m\u001b[1;39m,\n",
      "      \u001b[0m\u001b[34;1m\"id\"\u001b[0m\u001b[1;39m: \u001b[0m\u001b[0;32m\"f52d83ba-daa7-4d5c-899e-ae5d5c2487ad\"\u001b[0m\u001b[1;39m,\n",
      "      \u001b[0m\u001b[34;1m\"name\"\u001b[0m\u001b[1;39m: \u001b[0m\u001b[0;32m\"gpu\"\u001b[0m\u001b[1;39m\n",
      "    \u001b[1;39m}\u001b[0m\u001b[1;39m\n",
      "  \u001b[1;39m]\u001b[0m\u001b[1;39m,\n",
      "  \u001b[0m\u001b[34;1m\"upload_datetime\"\u001b[0m\u001b[1;39m: \u001b[0m\u001b[0;32m\"2022-09-16T12:32:07.862075\"\u001b[0m\u001b[1;39m\n",
      "\u001b[1;39m}\u001b[0m\n"
     ]
    }
   ],
   "source": [
    "query=\"execution_datetime=$execution_datetime&benchmark_id=$benchmark_id&flavor_id=$flavor_id&tags_ids=$tag_gpu_id\"\n",
    "curl -X 'POST' \"$eosc_perf_api/results?$query\" \\\n",
    "  -H 'accept: application/json' \\\n",
    "  -H \"Authorization: Bearer $access_token\" \\\n",
    "  -H 'Content-Type: application/json' \\\n",
    "  -d \"$result_json\" | jq"
   ]
  }
 ],
 "metadata": {
  "kernelspec": {
   "display_name": "Bash",
   "language": "bash",
   "name": "bash"
  },
  "language_info": {
   "codemirror_mode": "shell",
   "file_extension": ".sh",
   "mimetype": "text/x-sh",
   "name": "bash"
  },
  "toc-autonumbering": false,
  "toc-showcode": false
 },
 "nbformat": 4,
 "nbformat_minor": 5
}
