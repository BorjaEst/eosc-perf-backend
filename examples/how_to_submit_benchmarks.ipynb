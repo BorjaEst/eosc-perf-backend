{
 "cells": [
  {
   "cell_type": "markdown",
   "id": "486acef9-dd24-4a48-99d5-6e53e60a6f7c",
   "metadata": {},
   "source": [
    "### Create the environment\n",
    "To do so, we select an API endpoint and collect a token from our configuration. <br>\n",
    "We also need an access token, in this example we use [oidc-agent](https://github.com/indigo-dc/oidc-agent#:~:text=oidc%2Dagent%20is%20a%20set,session%20or%20a%20login%20session.) to get one. <br>"
   ]
  },
  {
   "cell_type": "code",
   "execution_count": 1,
   "id": "df6fbc94-aff2-4de3-a4fa-8ceaa9f54e02",
   "metadata": {},
   "outputs": [],
   "source": [
    "eosc_perf_api=\"https://perf-stage.test.fedcloud.eu/api/v1\"\n",
    "access_token=$(oidc-token egi-demo)"
   ]
  },
  {
   "cell_type": "markdown",
   "id": "7911381a-c922-45c4-b8e0-f7c1e2e7e99c",
   "metadata": {},
   "source": [
    "### (Conditional) Register, if not done already\n",
    "To use our service as user, first we need to accept the terms of usage and register. <br>\n",
    "Make sure to read the [terms and conditions](https://performance.services.fedcloud.eu/privacy_policy)."
   ]
  },
  {
   "cell_type": "code",
   "execution_count": 2,
   "id": "9390c151-9268-4aa2-ab8b-1b55ff966380",
   "metadata": {},
   "outputs": [
    {
     "name": "stdout",
     "output_type": "stream",
     "text": [
      "\n"
     ]
    }
   ],
   "source": [
    "curl -X 'POST' \\\n",
    "  \"$eosc_perf_api/users:register\" \\\n",
    "  -H \"Authorization: Bearer $access_token\""
   ]
  },
  {
   "cell_type": "markdown",
   "id": "3a2fd84e",
   "metadata": {},
   "source": [
    "### Push a benchmark docker image at docker hub\n",
    "All benchmark must rely on a public and accessible container image at docker hub.\n",
    "> You can find a tutorial on how to push a docker container image to Docker Hub [here](https://docs.docker.com/docker-hub/repos/)."
   ]
  },
  {
   "cell_type": "markdown",
   "id": "c7bafb0e",
   "metadata": {},
   "source": [
    "After upload your docker image, you will need the docker_image and docker_tag identifications for the later POST method."
   ]
  },
  {
   "cell_type": "code",
   "execution_count": 3,
   "id": "ad10860d",
   "metadata": {},
   "outputs": [],
   "source": [
    "image=\"deephdc/deep-oc-benchmarks_cnn\"\n",
    "tag=\"gpu\""
   ]
  },
  {
   "cell_type": "markdown",
   "id": "e039aa26-bb57-4880-9968-ae9ba53772b3",
   "metadata": {},
   "source": [
    "### Design a JSON Schema to accept or discard results from users\n",
    "Results must be linked to a benchmark when submitted. \n",
    "You can control the required fields and their data types to ensure users do not upload invalid results.\n",
    "This functionality will simplify users to compare attributes between results as such fields will always be present and will share the same type.\n",
    "> If you do not want to use JSON Schemas, you can use `{}` for an always valid result.\n",
    "\n",
    "> You can learn more about JSON Schemas at [json-schema.org](https://json-schema.org/)."
   ]
  },
  {
   "cell_type": "code",
   "execution_count": 4,
   "id": "001e00f5",
   "metadata": {},
   "outputs": [],
   "source": [
    "schema='{\n",
    "        \"$id\": \"https://example.com/benchmark.schema.json\",\n",
    "        \"$schema\": \"https://json-schema.org/draft/2019-09/schema\",\n",
    "        \"type\": \"object\",\n",
    "        \"properties\": {\n",
    "          \"start_datetime\": {\n",
    "            \"description\": \"The benchmark start datetime.\",\n",
    "            \"type\": \"string\",\n",
    "            \"format\": \"date-time\"\n",
    "          },\n",
    "          \"end_datetime\": {\n",
    "            \"description\": \"The benchmark end datetime.\",\n",
    "            \"type\": \"string\",\n",
    "            \"format\": \"date-time\"\n",
    "          },\n",
    "          \"machine\": {\n",
    "            \"description\": \"Execution machine details.\",\n",
    "            \"type\": \"object\",\n",
    "            \"properties\": {\n",
    "              \"cpus\": {\n",
    "                \"description\": \"Number of CPU.\",\n",
    "                \"type\": \"integer\"\n",
    "              },\n",
    "              \"ram\": {\n",
    "                \"description\": \"Available RAM in MB.\",\n",
    "                \"type\": \"integer\"\n",
    "              }\n",
    "            },\n",
    "            \"required\": [\n",
    "              \"cpus\",\n",
    "              \"ram\"\n",
    "            ]\n",
    "          }\n",
    "        },\n",
    "        \"required\": [\n",
    "          \"start_datetime\",\n",
    "          \"end_datetime\",\n",
    "          \"machine\"\n",
    "        ]}'"
   ]
  },
  {
   "cell_type": "markdown",
   "id": "8587d96a-780c-4010-a72a-fac691d60e09",
   "metadata": {},
   "source": [
    "### Upload your benchmark\n",
    "To upload the benchmark, you only need to use an authenticated POST request to /benchmarks and attach the following content to the body:\n",
    "- docker_image: Name of the image in docker hub.\n",
    "- docker_tag: Tag of the docker image you want this benchmark to reference.\n",
    "- schema: Defined JSON Schema to accept community results.\n",
    "- description(Optional): Short description about the benchmark for the community users."
   ]
  },
  {
   "cell_type": "code",
   "execution_count": 5,
   "id": "1b2301a2-b2e0-4150-90f6-5405f2714dd3",
   "metadata": {},
   "outputs": [
    {
     "name": "stdout",
     "output_type": "stream",
     "text": [
      "  % Total    % Received % Xferd  Average Speed   Time    Time     Time  Current\n",
      "                                 Dload  Upload   Total   Spent    Left  Speed\n",
      "100  2128  100   853  100  1275     90    134  0:00:09  0:00:09 --:--:--   200\n",
      "\u001b[1;39m{\n",
      "  \u001b[0m\u001b[34;1m\"description\"\u001b[0m\u001b[1;39m: \u001b[0m\u001b[0;32m\"A free description for the community\"\u001b[0m\u001b[1;39m,\n",
      "  \u001b[0m\u001b[34;1m\"docker_image\"\u001b[0m\u001b[1;39m: \u001b[0m\u001b[0;32m\"deephdc/deep-oc-benchmarks_cnn\"\u001b[0m\u001b[1;39m,\n",
      "  \u001b[0m\u001b[34;1m\"docker_tag\"\u001b[0m\u001b[1;39m: \u001b[0m\u001b[0;32m\"gpu\"\u001b[0m\u001b[1;39m,\n",
      "  \u001b[0m\u001b[34;1m\"id\"\u001b[0m\u001b[1;39m: \u001b[0m\u001b[0;32m\"84b21e6d-9efe-44ed-b59c-c487a626cc33\"\u001b[0m\u001b[1;39m,\n",
      "  \u001b[0m\u001b[34;1m\"json_schema\"\u001b[0m\u001b[1;39m: \u001b[0m\u001b[1;39m{\n",
      "    \u001b[0m\u001b[34;1m\"$id\"\u001b[0m\u001b[1;39m: \u001b[0m\u001b[0;32m\"https://example.com/benchmark.schema.json\"\u001b[0m\u001b[1;39m,\n",
      "    \u001b[0m\u001b[34;1m\"$schema\"\u001b[0m\u001b[1;39m: \u001b[0m\u001b[0;32m\"https://json-schema.org/draft/2019-09/schema\"\u001b[0m\u001b[1;39m,\n",
      "    \u001b[0m\u001b[34;1m\"properties\"\u001b[0m\u001b[1;39m: \u001b[0m\u001b[1;39m{\n",
      "      \u001b[0m\u001b[34;1m\"end_datetime\"\u001b[0m\u001b[1;39m: \u001b[0m\u001b[1;39m{\n",
      "        \u001b[0m\u001b[34;1m\"description\"\u001b[0m\u001b[1;39m: \u001b[0m\u001b[0;32m\"The benchmark end datetime.\"\u001b[0m\u001b[1;39m,\n",
      "        \u001b[0m\u001b[34;1m\"format\"\u001b[0m\u001b[1;39m: \u001b[0m\u001b[0;32m\"date-time\"\u001b[0m\u001b[1;39m,\n",
      "        \u001b[0m\u001b[34;1m\"type\"\u001b[0m\u001b[1;39m: \u001b[0m\u001b[0;32m\"string\"\u001b[0m\u001b[1;39m\n",
      "      \u001b[1;39m}\u001b[0m\u001b[1;39m,\n",
      "      \u001b[0m\u001b[34;1m\"machine\"\u001b[0m\u001b[1;39m: \u001b[0m\u001b[1;39m{\n",
      "        \u001b[0m\u001b[34;1m\"description\"\u001b[0m\u001b[1;39m: \u001b[0m\u001b[0;32m\"Execution machine details.\"\u001b[0m\u001b[1;39m,\n",
      "        \u001b[0m\u001b[34;1m\"properties\"\u001b[0m\u001b[1;39m: \u001b[0m\u001b[1;39m{\n",
      "          \u001b[0m\u001b[34;1m\"cpus\"\u001b[0m\u001b[1;39m: \u001b[0m\u001b[1;39m{\n",
      "            \u001b[0m\u001b[34;1m\"description\"\u001b[0m\u001b[1;39m: \u001b[0m\u001b[0;32m\"Number of CPU.\"\u001b[0m\u001b[1;39m,\n",
      "            \u001b[0m\u001b[34;1m\"type\"\u001b[0m\u001b[1;39m: \u001b[0m\u001b[0;32m\"integer\"\u001b[0m\u001b[1;39m\n",
      "          \u001b[1;39m}\u001b[0m\u001b[1;39m,\n",
      "          \u001b[0m\u001b[34;1m\"ram\"\u001b[0m\u001b[1;39m: \u001b[0m\u001b[1;39m{\n",
      "            \u001b[0m\u001b[34;1m\"description\"\u001b[0m\u001b[1;39m: \u001b[0m\u001b[0;32m\"Available RAM in MB.\"\u001b[0m\u001b[1;39m,\n",
      "            \u001b[0m\u001b[34;1m\"type\"\u001b[0m\u001b[1;39m: \u001b[0m\u001b[0;32m\"integer\"\u001b[0m\u001b[1;39m\n",
      "          \u001b[1;39m}\u001b[0m\u001b[1;39m\n",
      "        \u001b[1;39m}\u001b[0m\u001b[1;39m,\n",
      "        \u001b[0m\u001b[34;1m\"required\"\u001b[0m\u001b[1;39m: \u001b[0m\u001b[1;39m[\n",
      "          \u001b[0;32m\"cpus\"\u001b[0m\u001b[1;39m,\n",
      "          \u001b[0;32m\"ram\"\u001b[0m\u001b[1;39m\n",
      "        \u001b[1;39m]\u001b[0m\u001b[1;39m,\n",
      "        \u001b[0m\u001b[34;1m\"type\"\u001b[0m\u001b[1;39m: \u001b[0m\u001b[0;32m\"object\"\u001b[0m\u001b[1;39m\n",
      "      \u001b[1;39m}\u001b[0m\u001b[1;39m,\n",
      "      \u001b[0m\u001b[34;1m\"start_datetime\"\u001b[0m\u001b[1;39m: \u001b[0m\u001b[1;39m{\n",
      "        \u001b[0m\u001b[34;1m\"description\"\u001b[0m\u001b[1;39m: \u001b[0m\u001b[0;32m\"The benchmark start datetime.\"\u001b[0m\u001b[1;39m,\n",
      "        \u001b[0m\u001b[34;1m\"format\"\u001b[0m\u001b[1;39m: \u001b[0m\u001b[0;32m\"date-time\"\u001b[0m\u001b[1;39m,\n",
      "        \u001b[0m\u001b[34;1m\"type\"\u001b[0m\u001b[1;39m: \u001b[0m\u001b[0;32m\"string\"\u001b[0m\u001b[1;39m\n",
      "      \u001b[1;39m}\u001b[0m\u001b[1;39m\n",
      "    \u001b[1;39m}\u001b[0m\u001b[1;39m,\n",
      "    \u001b[0m\u001b[34;1m\"required\"\u001b[0m\u001b[1;39m: \u001b[0m\u001b[1;39m[\n",
      "      \u001b[0;32m\"start_datetime\"\u001b[0m\u001b[1;39m,\n",
      "      \u001b[0;32m\"end_datetime\"\u001b[0m\u001b[1;39m,\n",
      "      \u001b[0;32m\"machine\"\u001b[0m\u001b[1;39m\n",
      "    \u001b[1;39m]\u001b[0m\u001b[1;39m,\n",
      "    \u001b[0m\u001b[34;1m\"type\"\u001b[0m\u001b[1;39m: \u001b[0m\u001b[0;32m\"object\"\u001b[0m\u001b[1;39m\n",
      "  \u001b[1;39m}\u001b[0m\u001b[1;39m,\n",
      "  \u001b[0m\u001b[34;1m\"upload_datetime\"\u001b[0m\u001b[1;39m: \u001b[0m\u001b[0;32m\"2022-09-16T09:48:37.361474\"\u001b[0m\u001b[1;39m\n",
      "\u001b[1;39m}\u001b[0m\n"
     ]
    }
   ],
   "source": [
    "curl -X 'POST' \"$eosc_perf_api/benchmarks\" \\\n",
    "  -H 'accept: application/json' \\\n",
    "  -H \"Authorization: Bearer $access_token\" \\\n",
    "  -H 'Content-Type: application/json' \\\n",
    "  -d \"{\\\"docker_image\\\": \\\"$image\\\", \\\"docker_tag\\\": \\\"$tag\\\", \\\"json_schema\\\": $schema, \\\n",
    "       \\\"description\\\": \\\"A free description for the community\\\"}\" | jq"
   ]
  }
 ],
 "metadata": {
  "kernelspec": {
   "display_name": "Bash",
   "language": "bash",
   "name": "bash"
  },
  "language_info": {
   "codemirror_mode": "shell",
   "file_extension": ".sh",
   "mimetype": "text/x-sh",
   "name": "bash"
  },
  "toc-autonumbering": false,
  "toc-showcode": false
 },
 "nbformat": 4,
 "nbformat_minor": 5
}
