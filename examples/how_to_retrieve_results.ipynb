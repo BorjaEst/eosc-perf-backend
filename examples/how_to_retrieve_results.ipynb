{
 "cells": [
  {
   "cell_type": "markdown",
   "id": "486acef9-dd24-4a48-99d5-6e53e60a6f7c",
   "metadata": {},
   "source": [
    "### Create the environment\n",
    "To do so, we collect the API endpoint."
   ]
  },
  {
   "cell_type": "code",
   "execution_count": 1,
   "id": "df6fbc94-aff2-4de3-a4fa-8ceaa9f54e02",
   "metadata": {},
   "outputs": [],
   "source": [
    "eosc_perf_api=\"https://performance.services.fedcloud.eu/api/v1\""
   ]
  },
  {
   "cell_type": "markdown",
   "id": "222a852f",
   "metadata": {},
   "source": [
    "### Configure the arguments and terms for your search"
   ]
  },
  {
   "cell_type": "markdown",
   "id": "e039aa26-bb57-4880-9968-ae9ba53772b3",
   "metadata": {},
   "source": [
    "#### Search for the benchmark id that produced our result\n",
    "You can get a list of all available benchmarks using GET /benchmarks"
   ]
  },
  {
   "cell_type": "code",
   "execution_count": 2,
   "id": "fa437e41-ad87-4aa4-b213-3f167c3db697",
   "metadata": {},
   "outputs": [
    {
     "name": "stdout",
     "output_type": "stream",
     "text": [
      "  % Total    % Received % Xferd  Average Speed   Time    Time     Time  Current\n",
      "                                 Dload  Upload   Total   Spent    Left  Speed\n",
      "100  1547  100  1547    0     0   2902      0 --:--:-- --:--:-- --:--:--  2902\n",
      "\u001b[1;39m{\n",
      "  \u001b[0m\u001b[34;1m\"description\"\u001b[0m\u001b[1;39m: \u001b[0m\u001b[0;32m\"tf_cnn_benchmarks accessed via DEEP API. Several Convolutional Neural Networks are executed to evaluate the performance.\"\u001b[0m\u001b[1;39m,\n",
      "  \u001b[0m\u001b[34;1m\"docker_image\"\u001b[0m\u001b[1;39m: \u001b[0m\u001b[0;32m\"deephdc/deep-oc-benchmarks_cnn\"\u001b[0m\u001b[1;39m,\n",
      "  \u001b[0m\u001b[34;1m\"docker_tag\"\u001b[0m\u001b[1;39m: \u001b[0m\u001b[0;32m\"benchmark\"\u001b[0m\u001b[1;39m,\n",
      "  \u001b[0m\u001b[34;1m\"id\"\u001b[0m\u001b[1;39m: \u001b[0m\u001b[0;32m\"5a0f5641-01ae-4f48-b5d1-84cd9c87dfac\"\u001b[0m\u001b[1;39m,\n",
      "  \u001b[0m\u001b[34;1m\"json_schema\"\u001b[0m\u001b[1;39m: \u001b[0m\u001b[0;32m\"...\"\u001b[0m\u001b[1;39m,\n",
      "  \u001b[0m\u001b[34;1m\"upload_datetime\"\u001b[0m\u001b[1;39m: \u001b[0m\u001b[0;32m\"2021-10-13T15:07:45.672697\"\u001b[0m\u001b[1;39m\n",
      "\u001b[1;39m}\u001b[0m\n"
     ]
    }
   ],
   "source": [
    "benchmarks=$(curl -X 'GET' \"$eosc_perf_api/benchmarks?docker_image=deephdc/deep-oc-benchmarks_cnn&docker_tag=benchmark\")\n",
    "benchmark=$(echo $benchmarks | jq '.items[0]')\n",
    "echo $benchmark | jq '.json_schema = \"...\"'"
   ]
  },
  {
   "cell_type": "code",
   "execution_count": 3,
   "id": "474e1421",
   "metadata": {},
   "outputs": [
    {
     "name": "stdout",
     "output_type": "stream",
     "text": [
      "  % Total    % Received % Xferd  Average Speed   Time    Time     Time  Current\n",
      "                                 Dload  Upload   Total   Spent    Left  Speed\n",
      "100 43513  100 43513    0     0  82410      0 --:--:-- --:--:-- --:--:-- 82410\n",
      "\u001b[0;32m\"69516c84-c610-4656-ac7b-d41849fb6cbc\"\u001b[0m\n",
      "\u001b[0;32m\"124195c0-e5c8-459e-aca2-19a9665a4845\"\u001b[0m\n",
      "\u001b[0;32m\"5736c4f3-ea86-477a-8ae9-0e0ae05f62a3\"\u001b[0m\n",
      "\u001b[0;32m\"3212d315-72eb-4e63-8a91-25ece0718b18\"\u001b[0m\n",
      "\u001b[0;32m\"c99a91a1-2fb0-4d42-88a1-ddc12e7bdaf8\"\u001b[0m\n",
      "\u001b[0;32m\"e79a99b4-46f1-4ace-8d27-bc5f254b7a42\"\u001b[0m\n",
      "\u001b[0;32m\"8a7a15fd-b759-4c09-9117-3dc328b915c2\"\u001b[0m\n",
      "\u001b[0;32m\"889286ad-9e8d-47d2-a3f0-c07de330c81f\"\u001b[0m\n",
      "\u001b[0;32m\"553cc539-f32e-4db5-9a41-89d759dcf5ae\"\u001b[0m\n",
      "\u001b[0;32m\"8fe67271-b839-4dd4-807d-1c0a2eb04382\"\u001b[0m\n",
      "\u001b[0;32m\"51b861a3-d1fe-403e-b2db-fa8467a40c0b\"\u001b[0m\n",
      "\u001b[0;32m\"6926ab40-9d1a-462c-979d-21f1dd5df061\"\u001b[0m\n"
     ]
    }
   ],
   "source": [
    "benchmark_id=$(echo $benchmark | jq -r '.id')\n",
    "curl -X 'GET' \"$eosc_perf_api/results?benchmark_id=$benchmark_id\" \\\n",
    "  -H 'accept: application/json' | jq '.items[].id'"
   ]
  },
  {
   "cell_type": "markdown",
   "id": "b44d62bc-e960-4c42-b8ad-db15b1d0ab91",
   "metadata": {},
   "source": [
    "#### Search for the site id used to run our benchmark\n",
    "You can get a list of all available benchmarks using GET /sites"
   ]
  },
  {
   "cell_type": "code",
   "execution_count": 4,
   "id": "8326e84e-d386-4cbd-a143-3a0beeb8a3e2",
   "metadata": {},
   "outputs": [
    {
     "name": "stdout",
     "output_type": "stream",
     "text": [
      "  % Total    % Received % Xferd  Average Speed   Time    Time     Time  Current\n",
      "                                 Dload  Upload   Total   Spent    Left  Speed\n",
      "100   378  100   378    0     0   1340      0 --:--:-- --:--:-- --:--:--  1340\n",
      "\u001b[1;39m{\n",
      "  \u001b[0m\u001b[34;1m\"address\"\u001b[0m\u001b[1;39m: \u001b[0m\u001b[0;32m\"https://wiki.scc.kit.edu/hpc/index.php?title=Category:ForHLR\"\u001b[0m\u001b[1;39m,\n",
      "  \u001b[0m\u001b[34;1m\"description\"\u001b[0m\u001b[1;39m: \u001b[0m\u001b[0;32m\"Baden-Württemberg's general purpose tier 2 high performance computing (HPC) cluster\"\u001b[0m\u001b[1;39m,\n",
      "  \u001b[0m\u001b[34;1m\"id\"\u001b[0m\u001b[1;39m: \u001b[0m\u001b[0;32m\"27ee87ff-a9aa-4486-891a-aff8164a9cab\"\u001b[0m\u001b[1;39m,\n",
      "  \u001b[0m\u001b[34;1m\"name\"\u001b[0m\u001b[1;39m: \u001b[0m\u001b[0;32m\"ForHLR2\"\u001b[0m\u001b[1;39m,\n",
      "  \u001b[0m\u001b[34;1m\"upload_datetime\"\u001b[0m\u001b[1;39m: \u001b[0m\u001b[0;32m\"2021-10-13T15:11:17.437972\"\u001b[0m\u001b[1;39m\n",
      "\u001b[1;39m}\u001b[0m\n"
     ]
    }
   ],
   "source": [
    "sites=$(curl -X 'GET' \"$eosc_perf_api/sites?name=ForHLR2\")\n",
    "site=$(echo $sites | jq '.items[0]')\n",
    "echo $site | jq"
   ]
  },
  {
   "cell_type": "code",
   "execution_count": 5,
   "id": "c1204989",
   "metadata": {},
   "outputs": [
    {
     "name": "stdout",
     "output_type": "stream",
     "text": [
      "  % Total    % Received % Xferd  Average Speed   Time    Time     Time  Current\n",
      "                                 Dload  Upload   Total   Spent    Left  Speed\n",
      "100 29491  100 29491    0     0  65101      0 --:--:-- --:--:-- --:--:-- 65101\n",
      "\u001b[0;32m\"69516c84-c610-4656-ac7b-d41849fb6cbc\"\u001b[0m\n",
      "\u001b[0;32m\"124195c0-e5c8-459e-aca2-19a9665a4845\"\u001b[0m\n",
      "\u001b[0;32m\"5736c4f3-ea86-477a-8ae9-0e0ae05f62a3\"\u001b[0m\n",
      "\u001b[0;32m\"3212d315-72eb-4e63-8a91-25ece0718b18\"\u001b[0m\n",
      "\u001b[0;32m\"c99a91a1-2fb0-4d42-88a1-ddc12e7bdaf8\"\u001b[0m\n",
      "\u001b[0;32m\"e79a99b4-46f1-4ace-8d27-bc5f254b7a42\"\u001b[0m\n",
      "\u001b[0;32m\"8a7a15fd-b759-4c09-9117-3dc328b915c2\"\u001b[0m\n",
      "\u001b[0;32m\"889286ad-9e8d-47d2-a3f0-c07de330c81f\"\u001b[0m\n"
     ]
    }
   ],
   "source": [
    "site_id=$(echo $site | jq -r '.id')\n",
    "curl -X 'GET' \"$eosc_perf_api/results?site_id=$site_id\" \\\n",
    "  -H 'accept: application/json' | jq '.items[].id'"
   ]
  },
  {
   "cell_type": "markdown",
   "id": "8f9718a8",
   "metadata": {},
   "source": [
    "#### Search for the flavor id used to run our benchmark\n",
    "If needed you can also get a list of all available flavors in that site using GET /sites{id}/flavors"
   ]
  },
  {
   "cell_type": "code",
   "execution_count": 6,
   "id": "0dade40a-bd7d-4ec4-9bb0-370b9b092f25",
   "metadata": {},
   "outputs": [
    {
     "name": "stdout",
     "output_type": "stream",
     "text": [
      "  % Total    % Received % Xferd  Average Speed   Time    Time     Time  Current\n",
      "                                 Dload  Upload   Total   Spent    Left  Speed\n",
      "100   239  100   239    0     0   1422      0 --:--:-- --:--:-- --:--:--  1422\n",
      "\u001b[1;39m{\n",
      "  \u001b[0m\u001b[34;1m\"description\"\u001b[0m\u001b[1;39m: \u001b[0m\u001b[0;32m\"8x NVIDIA A100-40\"\u001b[0m\u001b[1;39m,\n",
      "  \u001b[0m\u001b[34;1m\"id\"\u001b[0m\u001b[1;39m: \u001b[0m\u001b[0;32m\"b91268ca-9c97-4b56-85d4-b83f17123322\"\u001b[0m\u001b[1;39m,\n",
      "  \u001b[0m\u001b[34;1m\"name\"\u001b[0m\u001b[1;39m: \u001b[0m\u001b[0;32m\"haicore-gpu8\"\u001b[0m\u001b[1;39m,\n",
      "  \u001b[0m\u001b[34;1m\"upload_datetime\"\u001b[0m\u001b[1;39m: \u001b[0m\u001b[0;32m\"2021-10-13T15:35:04.713245\"\u001b[0m\u001b[1;39m\n",
      "\u001b[1;39m}\u001b[0m\n"
     ]
    }
   ],
   "source": [
    "site_id=$(echo $site | jq -r '.id')\n",
    "flavors=$(curl -X 'GET' \"$eosc_perf_api/sites/$site_id/flavors:search?terms=haicore-gpu8\")\n",
    "flavor=$(echo $flavors | jq '.items[0]')\n",
    "echo $flavor | jq"
   ]
  },
  {
   "cell_type": "code",
   "execution_count": 7,
   "id": "93664107",
   "metadata": {},
   "outputs": [
    {
     "name": "stdout",
     "output_type": "stream",
     "text": [
      "  % Total    % Received % Xferd  Average Speed   Time    Time     Time  Current\n",
      "                                 Dload  Upload   Total   Spent    Left  Speed\n",
      "100    91  100    91    0     0    598      0 --:--:-- --:--:-- --:--:--   598\n"
     ]
    }
   ],
   "source": [
    "flavor_id=$(echo $flavor | jq -r '.id')\n",
    "curl -X 'GET' \"$eosc_perf_api/results?flavor_id=$site_id\" \\\n",
    "  -H 'accept: application/json' | jq '.items[].id'"
   ]
  },
  {
   "cell_type": "markdown",
   "id": "8976ea30-f40d-4b29-accb-97dc824f452b",
   "metadata": {},
   "source": [
    "#### Search for the tags to relate your result\n",
    "Collect the tags you want to link to your result so users can find it easily. <br>\n",
    "> If you do not know the name of the tag you can use :search as generic filter."
   ]
  },
  {
   "cell_type": "code",
   "execution_count": 8,
   "id": "f7ea3d49-7147-4bca-bb33-e4196be0185b",
   "metadata": {},
   "outputs": [
    {
     "name": "stdout",
     "output_type": "stream",
     "text": [
      "  % Total    % Received % Xferd  Average Speed   Time    Time     Time  Current\n",
      "                                 Dload  Upload   Total   Spent    Left  Speed\n",
      "100   166  100   166    0     0    954      0 --:--:-- --:--:-- --:--:--   948\n",
      "\u001b[1;39m{\n",
      "  \u001b[0m\u001b[34;1m\"description\"\u001b[0m\u001b[1;39m: \u001b[0m\u001b[0;32m\"\"\u001b[0m\u001b[1;39m,\n",
      "  \u001b[0m\u001b[34;1m\"id\"\u001b[0m\u001b[1;39m: \u001b[0m\u001b[0;32m\"f52d83ba-daa7-4d5c-899e-ae5d5c2487ad\"\u001b[0m\u001b[1;39m,\n",
      "  \u001b[0m\u001b[34;1m\"name\"\u001b[0m\u001b[1;39m: \u001b[0m\u001b[0;32m\"gpu\"\u001b[0m\u001b[1;39m\n",
      "\u001b[1;39m}\u001b[0m\n",
      "  % Total    % Received % Xferd  Average Speed   Time    Time     Time  Current\n",
      "                                 Dload  Upload   Total   Spent    Left  Speed\n",
      "100    91  100    91    0     0    415      0 --:--:-- --:--:-- --:--:--   415\n",
      "\u001b[1;30mnull\u001b[0m\n"
     ]
    }
   ],
   "source": [
    "tag_gpu=$(curl -X 'GET' \"$eosc_perf_api/tags?name=gpu\" | jq '.items[0]')\n",
    "echo $tag_gpu | jq\n",
    "tag_hpc=$(curl -X 'GET' \"$eosc_perf_api/tags?name=hpc\" | jq '.items[0]')\n",
    "echo $tag_hpc | jq"
   ]
  },
  {
   "cell_type": "code",
   "execution_count": 9,
   "id": "4302b90a",
   "metadata": {},
   "outputs": [
    {
     "name": "stdout",
     "output_type": "stream",
     "text": [
      "  % Total    % Received % Xferd  Average Speed   Time    Time     Time  Current\n",
      "                                 Dload  Upload   Total   Spent    Left  Speed\n",
      "100 43513  100 43513    0     0   150k      0 --:--:-- --:--:-- --:--:--  149k\n",
      "\u001b[0;32m\"69516c84-c610-4656-ac7b-d41849fb6cbc\"\u001b[0m\n",
      "\u001b[0;32m\"124195c0-e5c8-459e-aca2-19a9665a4845\"\u001b[0m\n",
      "\u001b[0;32m\"5736c4f3-ea86-477a-8ae9-0e0ae05f62a3\"\u001b[0m\n",
      "\u001b[0;32m\"3212d315-72eb-4e63-8a91-25ece0718b18\"\u001b[0m\n",
      "\u001b[0;32m\"c99a91a1-2fb0-4d42-88a1-ddc12e7bdaf8\"\u001b[0m\n",
      "\u001b[0;32m\"e79a99b4-46f1-4ace-8d27-bc5f254b7a42\"\u001b[0m\n",
      "\u001b[0;32m\"8a7a15fd-b759-4c09-9117-3dc328b915c2\"\u001b[0m\n",
      "\u001b[0;32m\"889286ad-9e8d-47d2-a3f0-c07de330c81f\"\u001b[0m\n",
      "\u001b[0;32m\"553cc539-f32e-4db5-9a41-89d759dcf5ae\"\u001b[0m\n",
      "\u001b[0;32m\"8fe67271-b839-4dd4-807d-1c0a2eb04382\"\u001b[0m\n",
      "\u001b[0;32m\"51b861a3-d1fe-403e-b2db-fa8467a40c0b\"\u001b[0m\n",
      "\u001b[0;32m\"6926ab40-9d1a-462c-979d-21f1dd5df061\"\u001b[0m\n"
     ]
    }
   ],
   "source": [
    "tag_1=$(echo $tag_gpu | jq -r '.id')\n",
    "curl -X 'GET' \"$eosc_perf_api/results?tags_ids=$tag_1\" \\\n",
    "  -H 'accept: application/json' | jq '.items[].id'"
   ]
  },
  {
   "cell_type": "markdown",
   "id": "57748416",
   "metadata": {},
   "source": [
    "#### Search for results between dates\n",
    "If is also possible to filter results by upload and execution date."
   ]
  },
  {
   "cell_type": "code",
   "execution_count": 10,
   "id": "69967b70",
   "metadata": {},
   "outputs": [
    {
     "name": "stdout",
     "output_type": "stream",
     "text": [
      "  % Total    % Received % Xferd  Average Speed   Time    Time     Time  Current\n",
      "                                 Dload  Upload   Total   Spent    Left  Speed\n",
      "100 71387  100 71387    0     0   180k      0 --:--:-- --:--:-- --:--:--  180k\n",
      "\u001b[0;32m\"7be82727-51fe-46e3-a81b-2df88e182ad1\"\u001b[0m\n",
      "\u001b[0;32m\"42dda424-5ff1-4951-92e9-4c4c69d4f88f\"\u001b[0m\n",
      "\u001b[0;32m\"76750e04-c085-45b6-a27e-cb092ebd85fc\"\u001b[0m\n",
      "\u001b[0;32m\"21d96f34-c9a6-4f0d-b844-c9c80ebb644a\"\u001b[0m\n",
      "\u001b[0;32m\"a1157fa4-3200-437a-b717-4c513e98d3c8\"\u001b[0m\n",
      "\u001b[0;32m\"b8cc1997-199b-40cf-9e29-0e5dac0e0af4\"\u001b[0m\n",
      "\u001b[0;32m\"3742ba4c-1e11-4e2f-8990-a0629f05677f\"\u001b[0m\n",
      "\u001b[0;32m\"c9434b5d-6424-43f7-a8c4-ca592d4f5583\"\u001b[0m\n",
      "\u001b[0;32m\"6d99f404-25f8-44ed-90b2-2c71bcd55148\"\u001b[0m\n",
      "\u001b[0;32m\"8862c927-fbbb-4e6a-b7f3-f3f61ab00466\"\u001b[0m\n",
      "\u001b[0;32m\"2a9acbbb-c720-41db-ba6f-56dbaea88445\"\u001b[0m\n",
      "\u001b[0;32m\"d9bac185-2b99-4e26-8176-3619ebb6a6cc\"\u001b[0m\n",
      "\u001b[0;32m\"ee63fe12-7bf5-4136-abe5-f213c448e900\"\u001b[0m\n",
      "\u001b[0;32m\"50a1c1ed-cd73-4607-add0-94aa916589b8\"\u001b[0m\n",
      "\u001b[0;32m\"92daf8ed-4408-4c57-b817-32b680bff7d0\"\u001b[0m\n",
      "\u001b[0;32m\"2c4f4d17-0564-472d-ab50-87ee3c5ac21a\"\u001b[0m\n",
      "\u001b[0;32m\"7af8a334-82c9-4d62-bda4-abcdc5928cc1\"\u001b[0m\n",
      "\u001b[0;32m\"da85bf7b-1dc7-4ad5-b6b3-6b5b499a466b\"\u001b[0m\n",
      "\u001b[0;32m\"7e6acb32-f218-4b16-8065-efd18c6139ad\"\u001b[0m\n",
      "\u001b[0;32m\"3e31e54e-00b5-4bd6-b125-9c5814157a26\"\u001b[0m\n",
      "\u001b[0;32m\"79c801cf-aada-4f3a-a633-dc47d3e756eb\"\u001b[0m\n",
      "\u001b[0;32m\"6366f6df-a3c4-4913-93d4-04e80c55d762\"\u001b[0m\n",
      "\u001b[0;32m\"82315b05-aafc-4e2e-9cdb-6424916df3b7\"\u001b[0m\n",
      "\u001b[0;32m\"c5a7ed22-feaa-4df9-90d7-b006b6cd447c\"\u001b[0m\n",
      "\u001b[0;32m\"5c17a29e-b416-4793-a689-f601b1b699c8\"\u001b[0m\n"
     ]
    }
   ],
   "source": [
    "upload_before='2021-10-16'\n",
    "execution_after='2021-10-14'\n",
    "\n",
    "curl -X 'GET' \"$eosc_perf_api/results?upload_before=$upload_before&execution_after=$execution_after\" \\\n",
    "  -H 'accept: application/json' | jq '.items[].id'"
   ]
  },
  {
   "cell_type": "markdown",
   "id": "dbd19dcf",
   "metadata": {},
   "source": [
    "#### Search using custom filters\n",
    "If is also possible to filter results specific values inside the result (if you know the result structure).\n",
    "> If you do not want results that does not include the field in the response, we recommend that you use a benchmark_id"
   ]
  },
  {
   "cell_type": "code",
   "execution_count": 11,
   "id": "0e5f2a0b",
   "metadata": {},
   "outputs": [
    {
     "name": "stdout",
     "output_type": "stream",
     "text": [
      "  % Total    % Received % Xferd  Average Speed   Time    Time     Time  Current\n",
      "                                 Dload  Upload   Total   Spent    Left  Speed\n",
      "100 29491  100 29491    0     0   132k      0 --:--:-- --:--:-- --:--:--  132k\n",
      "\u001b[0;32m\"69516c84-c610-4656-ac7b-d41849fb6cbc\"\u001b[0m\n",
      "\u001b[0;32m\"124195c0-e5c8-459e-aca2-19a9665a4845\"\u001b[0m\n",
      "\u001b[0;32m\"5736c4f3-ea86-477a-8ae9-0e0ae05f62a3\"\u001b[0m\n",
      "\u001b[0;32m\"3212d315-72eb-4e63-8a91-25ece0718b18\"\u001b[0m\n",
      "\u001b[0;32m\"c99a91a1-2fb0-4d42-88a1-ddc12e7bdaf8\"\u001b[0m\n",
      "\u001b[0;32m\"e79a99b4-46f1-4ace-8d27-bc5f254b7a42\"\u001b[0m\n",
      "\u001b[0;32m\"8a7a15fd-b759-4c09-9117-3dc328b915c2\"\u001b[0m\n",
      "\u001b[0;32m\"889286ad-9e8d-47d2-a3f0-c07de330c81f\"\u001b[0m\n"
     ]
    }
   ],
   "source": [
    "benchmark_id='5a0f5641-01ae-4f48-b5d1-84cd9c87dfac'\n",
    "filter_1='machine_config.gpu_info.count%20%3E%204'\n",
    "filter_2='machine_config.gpu_info.count%20%3C%2020'\n",
    "\n",
    "curl -X 'GET' \"$eosc_perf_api/results?benchmark_id=$benchmark_id&filters=$filter_1&filters=$filter_2\" \\\n",
    "  -H 'accept: application/json' | jq '.items[].id'"
   ]
  },
  {
   "cell_type": "markdown",
   "id": "48968c28",
   "metadata": {},
   "source": [
    "#### Configure sorting and use pagination\n",
    "For all the previous options, it is possible to sort the results using the following fields:\n",
    "- \"id\": Result id.\n",
    "- \"upload_datetime\": EOSC Performance upload datetime of the result.\n",
    "- \"json\": Result json values.\n",
    "- \"execution_datetime\": Execution date of the benchmark.\n",
    "- \"benchmark_id\": Benchmark id used to obtain the result.\n",
    "- \"flavor_id\": Favor id used to run the benchmark.\n",
    "- \"site_id\": Site id where the benchmark was executed.\n",
    "\n",
    "In addition, sometimes you might get more results that expected. In such case you will have to use pagination to collect all the items. To do so you can use the following parameters:\n",
    "- per_page: The number of items to be displayed on a page (maximum 100)\n",
    "- page: The return page number (1 indexed)"
   ]
  },
  {
   "cell_type": "code",
   "execution_count": 12,
   "id": "db9675af",
   "metadata": {},
   "outputs": [
    {
     "name": "stdout",
     "output_type": "stream",
     "text": [
      "  % Total    % Received % Xferd  Average Speed   Time    Time     Time  Current\n",
      "                                 Dload  Upload   Total   Spent    Left  Speed\n",
      "100 12579  100 12579    0     0  66205      0 --:--:-- --:--:-- --:--:-- 66205\n",
      "\u001b[0;32m\"3212d315-72eb-4e63-8a91-25ece0718b18\"\u001b[0m\n",
      "\u001b[0;32m\"3742ba4c-1e11-4e2f-8990-a0629f05677f\"\u001b[0m\n",
      "\u001b[0;32m\"3e31e54e-00b5-4bd6-b125-9c5814157a26\"\u001b[0m\n",
      "\u001b[0;32m\"42dda424-5ff1-4951-92e9-4c4c69d4f88f\"\u001b[0m\n"
     ]
    }
   ],
   "source": [
    "curl -X 'GET' \"$eosc_perf_api/results?per_page=4&page=2&sort_by=%2Bid\" \\\n",
    "  -H 'accept: application/json' | jq '.items[].id'"
   ]
  },
  {
   "cell_type": "code",
   "execution_count": null,
   "id": "03aa94bf",
   "metadata": {},
   "outputs": [],
   "source": []
  }
 ],
 "metadata": {
  "kernelspec": {
   "display_name": "Bash",
   "language": "bash",
   "name": "bash"
  },
  "language_info": {
   "codemirror_mode": "shell",
   "file_extension": ".sh",
   "mimetype": "text/x-sh",
   "name": "bash"
  },
  "toc-autonumbering": false,
  "toc-showcode": false
 },
 "nbformat": 4,
 "nbformat_minor": 5
}
